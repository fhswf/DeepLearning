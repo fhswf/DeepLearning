{
 "cells": [
  {
   "cell_type": "code",
   "execution_count": 1,
   "id": "b20f2cab-1ee5-4c0b-9d63-addece2efa39",
   "metadata": {},
   "outputs": [
    {
     "name": "stdout",
     "output_type": "stream",
     "text": [
      "Requirement already satisfied: gymnasium[atari] in /opt/conda/lib/python3.10/site-packages (0.29.1)\n",
      "Requirement already satisfied: numpy>=1.21.0 in /opt/conda/lib/python3.10/site-packages (from gymnasium[atari]) (1.23.5)\n",
      "Requirement already satisfied: cloudpickle>=1.2.0 in /opt/conda/lib/python3.10/site-packages (from gymnasium[atari]) (2.2.1)\n",
      "Requirement already satisfied: typing-extensions>=4.3.0 in /opt/conda/lib/python3.10/site-packages (from gymnasium[atari]) (4.8.0)\n",
      "Requirement already satisfied: farama-notifications>=0.0.1 in /opt/conda/lib/python3.10/site-packages (from gymnasium[atari]) (0.0.4)\n",
      "Requirement already satisfied: shimmy[atari]<1.0,>=0.1.0 in /opt/conda/lib/python3.10/site-packages (from gymnasium[atari]) (0.2.1)\n",
      "Requirement already satisfied: ale-py~=0.8.1 in /opt/conda/lib/python3.10/site-packages (from shimmy[atari]<1.0,>=0.1.0->gymnasium[atari]) (0.8.1)\n",
      "Requirement already satisfied: importlib-resources in /opt/conda/lib/python3.10/site-packages (from ale-py~=0.8.1->shimmy[atari]<1.0,>=0.1.0->gymnasium[atari]) (5.12.0)\n",
      "Requirement already satisfied: gymnasium[accept-rom-license] in /opt/conda/lib/python3.10/site-packages (0.29.1)\n",
      "Requirement already satisfied: numpy>=1.21.0 in /opt/conda/lib/python3.10/site-packages (from gymnasium[accept-rom-license]) (1.23.5)\n",
      "Requirement already satisfied: cloudpickle>=1.2.0 in /opt/conda/lib/python3.10/site-packages (from gymnasium[accept-rom-license]) (2.2.1)\n",
      "Requirement already satisfied: typing-extensions>=4.3.0 in /opt/conda/lib/python3.10/site-packages (from gymnasium[accept-rom-license]) (4.8.0)\n",
      "Requirement already satisfied: farama-notifications>=0.0.1 in /opt/conda/lib/python3.10/site-packages (from gymnasium[accept-rom-license]) (0.0.4)\n",
      "Requirement already satisfied: autorom[accept-rom-license]~=0.4.2 in /opt/conda/lib/python3.10/site-packages (from gymnasium[accept-rom-license]) (0.4.2)\n",
      "Requirement already satisfied: click in /opt/conda/lib/python3.10/site-packages (from autorom[accept-rom-license]~=0.4.2->gymnasium[accept-rom-license]) (8.1.3)\n",
      "Requirement already satisfied: requests in /opt/conda/lib/python3.10/site-packages (from autorom[accept-rom-license]~=0.4.2->gymnasium[accept-rom-license]) (2.29.0)\n",
      "Requirement already satisfied: tqdm in /opt/conda/lib/python3.10/site-packages (from autorom[accept-rom-license]~=0.4.2->gymnasium[accept-rom-license]) (4.65.0)\n",
      "Requirement already satisfied: AutoROM.accept-rom-license in /opt/conda/lib/python3.10/site-packages (from autorom[accept-rom-license]~=0.4.2->gymnasium[accept-rom-license]) (0.6.1)\n",
      "Requirement already satisfied: charset-normalizer<4,>=2 in /opt/conda/lib/python3.10/site-packages (from requests->autorom[accept-rom-license]~=0.4.2->gymnasium[accept-rom-license]) (3.1.0)\n",
      "Requirement already satisfied: idna<4,>=2.5 in /opt/conda/lib/python3.10/site-packages (from requests->autorom[accept-rom-license]~=0.4.2->gymnasium[accept-rom-license]) (3.4)\n",
      "Requirement already satisfied: urllib3<1.27,>=1.21.1 in /opt/conda/lib/python3.10/site-packages (from requests->autorom[accept-rom-license]~=0.4.2->gymnasium[accept-rom-license]) (1.26.15)\n",
      "Requirement already satisfied: certifi>=2017.4.17 in /opt/conda/lib/python3.10/site-packages (from requests->autorom[accept-rom-license]~=0.4.2->gymnasium[accept-rom-license]) (2023.5.7)\n",
      "Requirement already satisfied: moviepy in /opt/conda/lib/python3.10/site-packages (1.0.3)\n",
      "Requirement already satisfied: decorator<5.0,>=4.0.2 in /opt/conda/lib/python3.10/site-packages (from moviepy) (4.4.2)\n",
      "Requirement already satisfied: tqdm<5.0,>=4.11.2 in /opt/conda/lib/python3.10/site-packages (from moviepy) (4.65.0)\n",
      "Requirement already satisfied: requests<3.0,>=2.8.1 in /opt/conda/lib/python3.10/site-packages (from moviepy) (2.29.0)\n",
      "Requirement already satisfied: proglog<=1.0.0 in /opt/conda/lib/python3.10/site-packages (from moviepy) (0.1.10)\n",
      "Requirement already satisfied: numpy>=1.17.3 in /opt/conda/lib/python3.10/site-packages (from moviepy) (1.23.5)\n",
      "Requirement already satisfied: imageio<3.0,>=2.5 in /opt/conda/lib/python3.10/site-packages (from moviepy) (2.28.1)\n",
      "Requirement already satisfied: imageio-ffmpeg>=0.2.0 in /opt/conda/lib/python3.10/site-packages (from moviepy) (0.4.9)\n",
      "Requirement already satisfied: pillow>=8.3.2 in /opt/conda/lib/python3.10/site-packages (from imageio<3.0,>=2.5->moviepy) (9.5.0)\n",
      "Requirement already satisfied: setuptools in /opt/conda/lib/python3.10/site-packages (from imageio-ffmpeg>=0.2.0->moviepy) (67.7.2)\n",
      "Requirement already satisfied: charset-normalizer<4,>=2 in /opt/conda/lib/python3.10/site-packages (from requests<3.0,>=2.8.1->moviepy) (3.1.0)\n",
      "Requirement already satisfied: idna<4,>=2.5 in /opt/conda/lib/python3.10/site-packages (from requests<3.0,>=2.8.1->moviepy) (3.4)\n",
      "Requirement already satisfied: urllib3<1.27,>=1.21.1 in /opt/conda/lib/python3.10/site-packages (from requests<3.0,>=2.8.1->moviepy) (1.26.15)\n",
      "Requirement already satisfied: certifi>=2017.4.17 in /opt/conda/lib/python3.10/site-packages (from requests<3.0,>=2.8.1->moviepy) (2023.5.7)\n",
      "Requirement already satisfied: pysdl2 in /opt/conda/lib/python3.10/site-packages (0.9.16)\n",
      "Requirement already satisfied: pyvirtualdisplay in /opt/conda/lib/python3.10/site-packages (3.0)\n"
     ]
    }
   ],
   "source": [
    "!pip install gymnasium[atari]\n",
    "!pip install gymnasium[accept-rom-license]\n",
    "!pip install moviepy\n",
    "!pip install pysdl2\n",
    "!pip install pyvirtualdisplay"
   ]
  },
  {
   "cell_type": "code",
   "execution_count": 2,
   "id": "bc32e69c-6cd1-4fae-b0b0-8eb8bc0baef4",
   "metadata": {},
   "outputs": [
    {
     "name": "stdout",
     "output_type": "stream",
     "text": [
      "Requirement already satisfied: opencv-python in /opt/conda/lib/python3.10/site-packages (4.8.1.78)\n",
      "Requirement already satisfied: numpy>=1.21.2 in /opt/conda/lib/python3.10/site-packages (from opencv-python) (1.23.5)\n"
     ]
    }
   ],
   "source": [
    "!pip install opencv-python"
   ]
  },
  {
   "cell_type": "code",
   "execution_count": 3,
   "id": "afaac99b-c1f7-4561-beff-450a8dd57c2e",
   "metadata": {},
   "outputs": [
    {
     "name": "stderr",
     "output_type": "stream",
     "text": [
      "A.L.E: Arcade Learning Environment (version 0.8.1+53f58b7)\n",
      "[Powered by Stella]\n"
     ]
    }
   ],
   "source": [
    "import gymnasium as gym\n",
    "import random \n",
    "import torch\n",
    "import numpy as np\n",
    "from torch import nn\n",
    "from torch.distributions import Bernoulli\n",
    "\n",
    "from gymnasium import wrappers\n",
    "import matplotlib.pyplot as plt\n",
    "from IPython import display\n",
    "from tqdm.notebook import tqdm\n",
    "\n",
    "env = gym.make(\"ALE/Pong-v5\", render_mode=\"rgb_array\")\n",
    "# record the game as as an mp4 file\n",
    "env = wrappers.RecordVideo(env, 'video/pong-dqn', episode_trigger=lambda n: n%200==0)"
   ]
  },
  {
   "cell_type": "code",
   "execution_count": 4,
   "id": "9077e2fd-1b30-4e5d-a71b-fa8f77823656",
   "metadata": {},
   "outputs": [
    {
     "data": {
      "text/plain": [
       "['NOOP', 'FIRE', 'RIGHT', 'LEFT', 'RIGHTFIRE', 'LEFTFIRE']"
      ]
     },
     "execution_count": 4,
     "metadata": {},
     "output_type": "execute_result"
    }
   ],
   "source": [
    "env.unwrapped.get_action_meanings()"
   ]
  },
  {
   "cell_type": "code",
   "execution_count": 6,
   "id": "303ee66b-58f1-4436-9096-66901e1d6695",
   "metadata": {
    "tags": []
   },
   "outputs": [],
   "source": [
    "from collections import deque\n",
    "import cv2\n",
    "cv2.ocl.setUseOpenCL(False)\n",
    "\n",
    "\n",
    "class LazyFrames(object):\n",
    "    def __init__(self, frames):\n",
    "        \"\"\"This object ensures that common frames between the observations are only stored once.\n",
    "        It exists purely to optimize memory usage which can be huge for DQN's 1M frames replay\n",
    "        buffers.\n",
    "        This object should only be converted to numpy array before being passed to the model.\n",
    "        You'd not believe how complex the previous solution was.\"\"\"\n",
    "        self._frames = frames\n",
    "        self._out = None\n",
    "\n",
    "    def _force(self):\n",
    "        if self._out is None:\n",
    "            self._out = np.concatenate(self._frames, axis=2)\n",
    "            self._frames = None\n",
    "        return self._out\n",
    "\n",
    "    def __array__(self, dtype=None):\n",
    "        out = self._force()\n",
    "        if dtype is not None:\n",
    "            out = out.astype(dtype)\n",
    "        return out\n",
    "\n",
    "    def __len__(self):\n",
    "        return len(self._force())\n",
    "\n",
    "    def __getitem__(self, i):\n",
    "        return self._force()[i]\n",
    "\n",
    "class FrameStack(gym.Wrapper):\n",
    "    def __init__(self, env, k):\n",
    "        \"\"\"Stack k last frames.\n",
    "        Returns lazy array, which is much more memory efficient.\n",
    "        See Also\n",
    "        --------\n",
    "        baselines.common.atari_wrappers.LazyFrames\n",
    "        \"\"\"\n",
    "        gym.Wrapper.__init__(self, env)\n",
    "        self.k = k\n",
    "        self.frames = deque([], maxlen=k)\n",
    "        shp = env.observation_space.shape\n",
    "        self.observation_space = gym.spaces.Box(low=0, high=255, shape=(shp[0], shp[1], shp[2] * k), dtype=env.observation_space.dtype)\n",
    "\n",
    "    def reset(self, **kwargs):\n",
    "        ob, info = self.env.reset(**kwargs)\n",
    "        for _ in range(self.k):\n",
    "            self.frames.append(ob)\n",
    "        return self._get_ob(), info\n",
    "\n",
    "    def step(self, action):\n",
    "        ob, reward, done, truncated, info = self.env.step(action)\n",
    "        self.frames.append(ob)\n",
    "        return self._get_ob(), reward, done, truncated, info\n",
    "\n",
    "    def _get_ob(self):\n",
    "        assert len(self.frames) == self.k\n",
    "        return LazyFrames(list(self.frames))\n",
    "\n",
    "\n",
    "class WarpFrame(gym.ObservationWrapper):\n",
    "    def __init__(self, env):\n",
    "        \"\"\"Warp frames to 84x84 as done in the Nature paper and later work.\"\"\"\n",
    "        gym.ObservationWrapper.__init__(self, env)\n",
    "        self.width = 84\n",
    "        self.height = 84\n",
    "        self.observation_space = gym.spaces.Box(low=0, high=255,\n",
    "            shape=(self.height, self.width, 1), dtype=np.uint8)\n",
    "\n",
    "    def observation(self, frame):\n",
    "        frame = cv2.cvtColor(frame, cv2.COLOR_RGB2GRAY)\n",
    "        frame = cv2.resize(frame, (self.width, self.height), interpolation=cv2.INTER_AREA)\n",
    "        return frame[:, :, None]\n",
    "\n",
    "class EpisodicLifeEnv(gym.Wrapper):\n",
    "    def __init__(self, env=None):\n",
    "        \"\"\"Make end-of-life == end-of-episode, but only reset on true game over.\n",
    "        Done by DeepMind for the DQN and co. since it helps value estimation.\n",
    "        \"\"\"\n",
    "        super(EpisodicLifeEnv, self).__init__(env)\n",
    "        self.lives = 0\n",
    "        self.was_real_done = True\n",
    "        self.was_real_reset = False\n",
    "\n",
    "    def step(self, action):\n",
    "        obs, reward, done, truncated, info = self.env.step(action)\n",
    "        self.was_real_done = done\n",
    "        # check current lives, make loss of life terminal,\n",
    "        # then update lives to handle bonus lives\n",
    "        lives = self.env.unwrapped.ale.lives()\n",
    "        if lives < self.lives and lives > 0:\n",
    "            # for Qbert somtimes we stay in lives == 0 condtion for a few frames\n",
    "            # so its important to keep lives > 0, so that we only reset once\n",
    "            # the environment advertises done.\n",
    "            done = True\n",
    "        self.lives = lives\n",
    "        return obs, reward, done, truncated, info\n",
    "\n",
    "    def reset(self, **kwargs):\n",
    "        \"\"\"Reset only when lives are exhausted.\n",
    "        This way all states are still reachable even though lives are episodic,\n",
    "        and the learner need not know about any of this behind-the-scenes.\n",
    "        \"\"\"\n",
    "        if self.was_real_done:\n",
    "            obs, info = self.env.reset(**kwargs)\n",
    "            self.was_real_reset = True\n",
    "        else:\n",
    "            # no-op step to advance from terminal/lost life state\n",
    "            obs, _, _, _, info = self.env.step(0)\n",
    "            self.was_real_reset = False\n",
    "        self.lives = self.env.unwrapped.ale.lives()\n",
    "        return obs, info\n",
    "    \n",
    "class MaxAndSkipEnv(gym.Wrapper):\n",
    "    def __init__(self, env=None, skip=4):\n",
    "        \"\"\"Return only every `skip`-th frame\"\"\"\n",
    "        super(MaxAndSkipEnv, self).__init__(env)\n",
    "        # most recent raw observations (for max pooling across time steps)\n",
    "        self._obs_buffer = deque(maxlen=2)\n",
    "        self._skip = skip\n",
    "\n",
    "    def step(self, action):\n",
    "        total_reward = 0.0\n",
    "        done = None\n",
    "        for _ in range(self._skip):\n",
    "            obs, reward, done, truncated, info = self.env.step(action)\n",
    "            self._obs_buffer.append(obs)\n",
    "            total_reward += reward\n",
    "            if done:\n",
    "                break\n",
    "\n",
    "        max_frame = np.max(np.stack(self._obs_buffer), axis=0)\n",
    "\n",
    "        return max_frame, total_reward, done, truncated, info\n",
    "\n",
    "    def reset(self, **kwargs):\n",
    "        \"\"\"Clear past frame buffer and init. to first obs. from inner env.\"\"\"\n",
    "        self._obs_buffer.clear()\n",
    "        obs, info = self.env.reset(**kwargs)\n",
    "        self._obs_buffer.append(obs)\n",
    "        return obs, info\n",
    "\n",
    "    \n",
    "class NoopResetEnv(gym.Wrapper):\n",
    "    def __init__(self, env=None, noop_max=30):\n",
    "        \"\"\"Sample initial states by taking random number of no-ops on reset.\n",
    "        No-op is assumed to be action 0.\n",
    "        \"\"\"\n",
    "        super(NoopResetEnv, self).__init__(env)\n",
    "        self.noop_max = noop_max\n",
    "        self.override_num_noops = None\n",
    "        assert env.unwrapped.get_action_meanings()[0] == 'NOOP'\n",
    "\n",
    "    def step(self, action):\n",
    "        return self.env.step(action)\n",
    "\n",
    "    def reset(self, **kwargs):\n",
    "        \"\"\" Do no-op action for a number of steps in [1, noop_max].\"\"\"\n",
    "        self.env.reset(**kwargs)\n",
    "        if self.override_num_noops is not None:\n",
    "            noops = self.override_num_noops\n",
    "        else:\n",
    "            noops = np.random.randint(1, self.noop_max + 1)\n",
    "        assert noops > 0\n",
    "        obs = None\n",
    "        info = None\n",
    "        for _ in range(noops):\n",
    "            obs, _, done, _, info = self.env.step(0)\n",
    "            if done:\n",
    "                obs, info = self.env.reset(**kwargs)\n",
    "        return obs, info"
   ]
  },
  {
   "cell_type": "code",
   "execution_count": 7,
   "id": "fca7cd42-3672-4c19-9444-4f92515983a3",
   "metadata": {},
   "outputs": [],
   "source": [
    "def make_env(env, stack_frames=True, episodic_life=True):\n",
    "    if episodic_life:\n",
    "        env = EpisodicLifeEnv(env)\n",
    "\n",
    "    env = NoopResetEnv(env, noop_max=30)\n",
    "    env = MaxAndSkipEnv(env, skip=4)\n",
    "    #if 'FIRE' in env.unwrapped.get_action_meanings():\n",
    "    #    env = FireResetEnv(env)\n",
    "\n",
    "    env = WarpFrame(env)\n",
    "    if stack_frames:\n",
    "        env = FrameStack(env, 4)\n",
    "  \n",
    "    return env\n"
   ]
  },
  {
   "cell_type": "code",
   "execution_count": 8,
   "id": "9f601ecc-c1df-426d-8e6a-548ef60983b0",
   "metadata": {},
   "outputs": [],
   "source": [
    "env = make_env(env)"
   ]
  },
  {
   "cell_type": "code",
   "execution_count": 9,
   "id": "962e5704-6cd3-4d41-9480-7a7b662d9164",
   "metadata": {},
   "outputs": [],
   "source": [
    "def render(env):\n",
    "    img.set_data(env.render())\n",
    "    display.display(plt.gcf())\n",
    "    display.clear_output(wait=True)"
   ]
  },
  {
   "cell_type": "code",
   "execution_count": 10,
   "id": "e0782329-cd11-4bab-bff2-dbc09240a1d4",
   "metadata": {},
   "outputs": [],
   "source": [
    "import torch\n",
    "import torch.nn as nn\n",
    "import torch.optim as optim\n",
    "import torch.nn.functional as F\n",
    "import torchvision.transforms as T\n",
    "\n",
    "class DQN(nn.Module):\n",
    "    def __init__(self, in_channels=4, n_actions=14):\n",
    "        \"\"\"\n",
    "        Initialize Deep Q Network\n",
    "        Args:\n",
    "            in_channels (int): number of input channels\n",
    "            n_actions (int): number of outputs\n",
    "        \"\"\"\n",
    "        super(DQN, self).__init__()\n",
    "        self.conv1 = nn.Conv2d(in_channels, 32, kernel_size=8, stride=4)\n",
    "        # self.bn1 = nn.BatchNorm2d(32)\n",
    "        self.conv2 = nn.Conv2d(32, 64, kernel_size=4, stride=2)\n",
    "        # self.bn2 = nn.BatchNorm2d(64)\n",
    "        self.conv3 = nn.Conv2d(64, 64, kernel_size=3, stride=1)\n",
    "        # self.bn3 = nn.BatchNorm2d(64)\n",
    "        self.fc4 = nn.Linear(7 * 7 * 64, 512)\n",
    "        self.head = nn.Linear(512, n_actions)\n",
    "        \n",
    "    def forward(self, x):\n",
    "        x = x.float() / 255\n",
    "        x = F.relu(self.conv1(x))\n",
    "        x = F.relu(self.conv2(x))\n",
    "        x = F.relu(self.conv3(x))\n",
    "        x = F.relu(self.fc4(x.view(x.size(0), -1)))\n",
    "        return self.head(x)"
   ]
  },
  {
   "cell_type": "code",
   "execution_count": 11,
   "id": "b88156d3-935d-4f0f-a007-b8cd60c517f6",
   "metadata": {},
   "outputs": [],
   "source": [
    "from collections import namedtuple\n",
    "import random\n",
    "\n",
    "Transition = namedtuple('Transition', \n",
    "                        ('state', 'action', 'next_state', 'reward'))\n",
    "\n",
    "class ReplayMemory(object):\n",
    "    def __init__(self, capacity):\n",
    "        self.capacity = capacity\n",
    "        self.memory = []\n",
    "        self.position = 0\n",
    "        \n",
    "    def push(self, *args):\n",
    "        if len(self.memory) < self.capacity:\n",
    "            self.memory.append(None)\n",
    "        self.memory[self.position] = Transition(*args)\n",
    "        self.position = (self.position + 1) % self.capacity\n",
    "        \n",
    "    def sample(self, batch_size):\n",
    "        return random.sample(self.memory, batch_size)\n",
    "    \n",
    "    def __len__(self):\n",
    "        return len(self.memory)"
   ]
  },
  {
   "cell_type": "code",
   "execution_count": 13,
   "id": "026daa27-f114-4092-94b6-abf8a83a4140",
   "metadata": {},
   "outputs": [],
   "source": [
    "import math\n",
    "\n",
    "device = torch.device(\"cuda\" if torch.cuda.is_available() else \"cpu\")\n",
    "\n",
    "class DQNPolicy:\n",
    "    \n",
    "    BATCH_SIZE = 16636\n",
    "    GAMMA = 0.99\n",
    "    EPS_START = 1\n",
    "    EPS_END = 0.02\n",
    "    EPS_DECAY = 1000000\n",
    "    TARGET_UPDATE = 1000\n",
    "    RENDER = False\n",
    "    INITIAL_MEMORY = 10000\n",
    "    MEMORY_SIZE = 10 * INITIAL_MEMORY\n",
    "    \n",
    "    def __init__(self, lr=1e-4):\n",
    "        self.n_actions = 4\n",
    "        self.steps_done = 0\n",
    "        self.mean_reward = None\n",
    "        self.policy_net = DQN(n_actions=self.n_actions).to(device)\n",
    "        self.target_net = DQN(n_actions=self.n_actions).to(device)\n",
    "        self.target_net.load_state_dict(self.policy_net.state_dict())\n",
    "\n",
    "        self.memory = ReplayMemory(DQNPolicy.MEMORY_SIZE)\n",
    "        \n",
    "        self.optimizer = optim.Adam(self.policy_net.parameters(), lr=lr)\n",
    "        \n",
    "    def get_state(self, obs):\n",
    "        state = np.array(obs)\n",
    "        state = state.transpose((2, 0, 1))\n",
    "        state = torch.from_numpy(state)\n",
    "        return state.unsqueeze(0)\n",
    "\n",
    "    def __call__(self, observation):\n",
    "        state = self.get_state(observation)\n",
    "        sample = random.random()\n",
    "        eps_threshold = DQNPolicy.EPS_END + (DQNPolicy.EPS_START - DQNPolicy.EPS_END)* math.exp(-1. * self.steps_done / DQNPolicy.EPS_DECAY)\n",
    "        self.steps_done += 1\n",
    "        if sample > eps_threshold:\n",
    "            with torch.no_grad():\n",
    "                return self.policy_net(state.to(device)).max(1)[1].view(1,1)\n",
    "        else:\n",
    "            return torch.tensor([[random.randrange(self.n_actions)]], device=device, dtype=torch.long)\n",
    "        \n",
    "    def init_game(self, observation):\n",
    "        self.state = self.get_state(observation)\n",
    "        self.total_reward = 0.0\n",
    "    \n",
    "    def update(self, obs, reward, terminated, truncated, info, pbar):\n",
    "        self.total_reward += reward\n",
    "        if not terminated:\n",
    "            self.next_state = self.get_state(obs)\n",
    "        else:\n",
    "            if self.mean_reward is None:\n",
    "                self.mean_reward = self.total_reward\n",
    "            else:\n",
    "                self.mean_reward = self.mean_reward * 0.95 + self.total_reward * (1.0 - 0.95)\n",
    "            pbar.set_postfix({'total_reward': self.total_reward, 'mean_reward': self.mean_reward, 'steps': self.steps_done})\n",
    "            self.next_state = None\n",
    "            \n",
    "        reward = torch.tensor([reward], device=device)\n",
    "        self.memory.push(self.state, action.to('cpu'), self.next_state, reward.to('cpu'))\n",
    "        self.state = self.next_state\n",
    "\n",
    "        if terminated and self.steps_done > DQNPolicy.INITIAL_MEMORY:\n",
    "            self.optimize_model()\n",
    "\n",
    "        if self.steps_done % DQNPolicy.TARGET_UPDATE == 0:\n",
    "            self.target_net.load_state_dict(self.policy_net.state_dict())      \n",
    "            \n",
    "        if self.steps_done % 100_000 == 0:\n",
    "            self.save(f'dqn_{self.steps_done}.pt')\n",
    "\n",
    "    def optimize_model(self):\n",
    "        if len(self.memory) < DQNPolicy.BATCH_SIZE:\n",
    "            return\n",
    "        transitions = self.memory.sample(DQNPolicy.BATCH_SIZE)\n",
    "        \"\"\"\n",
    "        zip(*transitions) unzips the transitions into\n",
    "        Transition(*) creates new named tuple\n",
    "        batch.state - tuple of all the states (each state is a tensor)\n",
    "        batch.next_state - tuple of all the next states (each state is a tensor)\n",
    "        batch.reward - tuple of all the rewards (each reward is a float)\n",
    "        batch.action - tuple of all the actions (each action is an int)    \n",
    "        \"\"\"\n",
    "        batch = Transition(*zip(*transitions))\n",
    "\n",
    "        actions = tuple((map(lambda a: torch.tensor([[a]], device=device), batch.action))) \n",
    "        rewards = tuple((map(lambda r: torch.tensor([r], device=device), batch.reward))) \n",
    "\n",
    "        non_final_mask = torch.tensor(\n",
    "            tuple(map(lambda s: s is not None, batch.next_state)),\n",
    "            device=device, dtype=torch.bool)\n",
    "\n",
    "        non_final_next_states = torch.cat([s for s in batch.next_state\n",
    "                                           if s is not None]).to(device)\n",
    "\n",
    "\n",
    "        state_batch = torch.cat(batch.state).to(device)\n",
    "        action_batch = torch.cat(actions)\n",
    "        reward_batch = torch.cat(rewards)\n",
    "\n",
    "        state_action_values = self.policy_net(state_batch).gather(1, action_batch)\n",
    "\n",
    "        next_state_values = torch.zeros(DQNPolicy.BATCH_SIZE, device=device)\n",
    "        next_state_values[non_final_mask] = self.target_net(non_final_next_states).max(1)[0].detach()\n",
    "        expected_state_action_values = (next_state_values * DQNPolicy.GAMMA) + reward_batch\n",
    "\n",
    "        loss = F.smooth_l1_loss(state_action_values, expected_state_action_values.unsqueeze(1))\n",
    "\n",
    "        self.optimizer.zero_grad()\n",
    "        loss.backward()\n",
    "        for param in self.policy_net.parameters():\n",
    "            param.grad.data.clamp_(-1, 1)\n",
    "        self.optimizer.step()\n",
    "        \n",
    "\n",
    "        \n",
    "    def load(self, PATH):\n",
    "        checkpoint = torch.load(PATH)\n",
    "        self.policy_net.load_state_dict(checkpoint['model_state_dict'])\n",
    "        self.target_net.load_state_dict(self.policy_net.state_dict()) \n",
    "        self.optimizer.load_state_dict(checkpoint['optimizer_state_dict'])\n",
    "        self.steps_done = checkpoint['steps_done']\n",
    "        if \"mean_reward\" in checkpoint:\n",
    "            self.mean_reward = checkpoint['mean_reward']\n",
    "        \n",
    "    def save(self, PATH):\n",
    "        torch.save({\n",
    "                    'steps_done': self.steps_done,\n",
    "                    'model_state_dict': self.policy_net.state_dict(),\n",
    "                    'optimizer_state_dict': self.optimizer.state_dict(),\n",
    "                    'mean_reward': self.mean_reward}, PATH)"
   ]
  },
  {
   "cell_type": "code",
   "execution_count": 14,
   "id": "2e63ce68-4b97-43dc-a817-8694357d2f6d",
   "metadata": {},
   "outputs": [],
   "source": [
    "policy = DQNPolicy()\n",
    "#policy.load(\"model_8500000.pt\")"
   ]
  },
  {
   "cell_type": "code",
   "execution_count": null,
   "id": "c1783180-33be-459a-b839-d1bd100c5ead",
   "metadata": {},
   "outputs": [
    {
     "data": {
      "application/vnd.jupyter.widget-view+json": {
       "model_id": "5f301f87ec384ea0afff769d102ec931",
       "version_major": 2,
       "version_minor": 0
      },
      "text/plain": [
       "  0%|          | 0/10000 [00:00<?, ?it/s]"
      ]
     },
     "metadata": {},
     "output_type": "display_data"
    },
    {
     "name": "stdout",
     "output_type": "stream",
     "text": [
      "Moviepy - Building video /home/chgaw002/DeepLearning/video/pong-dqn/rl-video-episode-200.mp4.\n",
      "Moviepy - Writing video /home/chgaw002/DeepLearning/video/pong-dqn/rl-video-episode-200.mp4\n",
      "\n"
     ]
    },
    {
     "name": "stderr",
     "output_type": "stream",
     "text": [
      "\n",
      "t:   0%|          | 0/766 [00:00<?, ?it/s, now=None]\u001b[A\n",
      "t:  39%|███▉      | 297/766 [00:00<00:00, 2958.08it/s, now=None]\u001b[A\n",
      "t:  87%|████████▋ | 665/766 [00:00<00:00, 3380.22it/s, now=None]\u001b[A\n",
      "                                                                \u001b[A"
     ]
    },
    {
     "name": "stdout",
     "output_type": "stream",
     "text": [
      "Moviepy - Done !\n",
      "Moviepy - video ready /home/chgaw002/DeepLearning/video/pong-dqn/rl-video-episode-200.mp4\n",
      "Moviepy - Building video /home/chgaw002/DeepLearning/video/pong-dqn/rl-video-episode-400.mp4.\n",
      "Moviepy - Writing video /home/chgaw002/DeepLearning/video/pong-dqn/rl-video-episode-400.mp4\n",
      "\n"
     ]
    },
    {
     "name": "stderr",
     "output_type": "stream",
     "text": [
      "\n",
      "t:   0%|          | 0/766 [00:00<?, ?it/s, now=None]\u001b[A\n",
      "t:  33%|███▎      | 253/766 [00:00<00:00, 2525.68it/s, now=None]\u001b[A\n",
      "t:  78%|███████▊  | 601/766 [00:00<00:00, 3082.61it/s, now=None]\u001b[A\n",
      "                                                                \u001b[A"
     ]
    },
    {
     "name": "stdout",
     "output_type": "stream",
     "text": [
      "Moviepy - Done !\n",
      "Moviepy - video ready /home/chgaw002/DeepLearning/video/pong-dqn/rl-video-episode-400.mp4\n",
      "Moviepy - Building video /home/chgaw002/DeepLearning/video/pong-dqn/rl-video-episode-600.mp4.\n",
      "Moviepy - Writing video /home/chgaw002/DeepLearning/video/pong-dqn/rl-video-episode-600.mp4\n",
      "\n"
     ]
    },
    {
     "name": "stderr",
     "output_type": "stream",
     "text": [
      "\n",
      "t:   0%|          | 0/923 [00:00<?, ?it/s, now=None]\u001b[A\n",
      "t:  24%|██▍       | 220/923 [00:00<00:00, 2194.51it/s, now=None]\u001b[A\n",
      "t:  59%|█████▉    | 546/923 [00:00<00:00, 2817.45it/s, now=None]\u001b[A\n",
      "                                                                \u001b[A"
     ]
    },
    {
     "name": "stdout",
     "output_type": "stream",
     "text": [
      "Moviepy - Done !\n",
      "Moviepy - video ready /home/chgaw002/DeepLearning/video/pong-dqn/rl-video-episode-600.mp4\n",
      "Moviepy - Building video /home/chgaw002/DeepLearning/video/pong-dqn/rl-video-episode-800.mp4.\n",
      "Moviepy - Writing video /home/chgaw002/DeepLearning/video/pong-dqn/rl-video-episode-800.mp4\n",
      "\n"
     ]
    },
    {
     "name": "stderr",
     "output_type": "stream",
     "text": [
      "\n",
      "t:   0%|          | 0/845 [00:00<?, ?it/s, now=None]\u001b[A\n",
      "t:  27%|██▋       | 226/845 [00:00<00:00, 2255.05it/s, now=None]\u001b[A\n",
      "t:  72%|███████▏  | 611/845 [00:00<00:00, 3192.16it/s, now=None]\u001b[A\n",
      "                                                                \u001b[A"
     ]
    },
    {
     "name": "stdout",
     "output_type": "stream",
     "text": [
      "Moviepy - Done !\n",
      "Moviepy - video ready /home/chgaw002/DeepLearning/video/pong-dqn/rl-video-episode-800.mp4\n",
      "Moviepy - Building video /home/chgaw002/DeepLearning/video/pong-dqn/rl-video-episode-1000.mp4.\n",
      "Moviepy - Writing video /home/chgaw002/DeepLearning/video/pong-dqn/rl-video-episode-1000.mp4\n",
      "\n"
     ]
    },
    {
     "name": "stderr",
     "output_type": "stream",
     "text": [
      "\n",
      "t:   0%|          | 0/794 [00:00<?, ?it/s, now=None]\u001b[A\n",
      "t:  32%|███▏      | 254/794 [00:00<00:00, 2539.11it/s, now=None]\u001b[A\n",
      "t:  83%|████████▎ | 657/794 [00:00<00:00, 3415.29it/s, now=None]\u001b[A\n",
      "                                                                \u001b[A"
     ]
    },
    {
     "name": "stdout",
     "output_type": "stream",
     "text": [
      "Moviepy - Done !\n",
      "Moviepy - video ready /home/chgaw002/DeepLearning/video/pong-dqn/rl-video-episode-1000.mp4\n",
      "Moviepy - Building video /home/chgaw002/DeepLearning/video/pong-dqn/rl-video-episode-1200.mp4.\n",
      "Moviepy - Writing video /home/chgaw002/DeepLearning/video/pong-dqn/rl-video-episode-1200.mp4\n",
      "\n"
     ]
    },
    {
     "name": "stderr",
     "output_type": "stream",
     "text": [
      "\n",
      "t:   0%|          | 0/1072 [00:00<?, ?it/s, now=None]\u001b[A\n",
      "t:  22%|██▏       | 234/1072 [00:00<00:00, 2337.13it/s, now=None]\u001b[A\n",
      "t:  55%|█████▌    | 591/1072 [00:00<00:00, 3061.66it/s, now=None]\u001b[A\n",
      "t:  96%|█████████▌| 1031/1072 [00:00<00:00, 3669.31it/s, now=None]\u001b[A\n",
      "                                                                  \u001b[A"
     ]
    },
    {
     "name": "stdout",
     "output_type": "stream",
     "text": [
      "Moviepy - Done !\n",
      "Moviepy - video ready /home/chgaw002/DeepLearning/video/pong-dqn/rl-video-episode-1200.mp4\n",
      "Moviepy - Building video /home/chgaw002/DeepLearning/video/pong-dqn/rl-video-episode-1400.mp4.\n",
      "Moviepy - Writing video /home/chgaw002/DeepLearning/video/pong-dqn/rl-video-episode-1400.mp4\n",
      "\n"
     ]
    },
    {
     "name": "stderr",
     "output_type": "stream",
     "text": [
      "\n",
      "t:   0%|          | 0/948 [00:00<?, ?it/s, now=None]\u001b[A\n",
      "t:  36%|███▌      | 341/948 [00:00<00:00, 3404.06it/s, now=None]\u001b[A\n",
      "t:  87%|████████▋ | 829/948 [00:00<00:00, 4270.80it/s, now=None]\u001b[A\n",
      "                                                                \u001b[A"
     ]
    },
    {
     "name": "stdout",
     "output_type": "stream",
     "text": [
      "Moviepy - Done !\n",
      "Moviepy - video ready /home/chgaw002/DeepLearning/video/pong-dqn/rl-video-episode-1400.mp4\n",
      "Moviepy - Building video /home/chgaw002/DeepLearning/video/pong-dqn/rl-video-episode-1600.mp4.\n",
      "Moviepy - Writing video /home/chgaw002/DeepLearning/video/pong-dqn/rl-video-episode-1600.mp4\n",
      "\n"
     ]
    },
    {
     "name": "stderr",
     "output_type": "stream",
     "text": [
      "\n",
      "t:   0%|          | 0/967 [00:00<?, ?it/s, now=None]\u001b[A\n",
      "t:  24%|██▍       | 234/967 [00:00<00:00, 2339.19it/s, now=None]\u001b[A\n",
      "t:  57%|█████▋    | 548/967 [00:00<00:00, 2805.37it/s, now=None]\u001b[A\n",
      "t:  98%|█████████▊| 947/967 [00:00<00:00, 3344.39it/s, now=None]\u001b[A\n",
      "                                                                \u001b[A"
     ]
    },
    {
     "name": "stdout",
     "output_type": "stream",
     "text": [
      "Moviepy - Done !\n",
      "Moviepy - video ready /home/chgaw002/DeepLearning/video/pong-dqn/rl-video-episode-1600.mp4\n",
      "Moviepy - Building video /home/chgaw002/DeepLearning/video/pong-dqn/rl-video-episode-1800.mp4.\n",
      "Moviepy - Writing video /home/chgaw002/DeepLearning/video/pong-dqn/rl-video-episode-1800.mp4\n",
      "\n"
     ]
    },
    {
     "name": "stderr",
     "output_type": "stream",
     "text": [
      "\n",
      "t:   0%|          | 0/766 [00:00<?, ?it/s, now=None]\u001b[A\n",
      "t:  46%|████▌     | 354/766 [00:00<00:00, 3537.86it/s, now=None]\u001b[A\n",
      "                                                                \u001b[A"
     ]
    },
    {
     "name": "stdout",
     "output_type": "stream",
     "text": [
      "Moviepy - Done !\n",
      "Moviepy - video ready /home/chgaw002/DeepLearning/video/pong-dqn/rl-video-episode-1800.mp4\n",
      "Moviepy - Building video /home/chgaw002/DeepLearning/video/pong-dqn/rl-video-episode-2000.mp4.\n",
      "Moviepy - Writing video /home/chgaw002/DeepLearning/video/pong-dqn/rl-video-episode-2000.mp4\n",
      "\n"
     ]
    },
    {
     "name": "stderr",
     "output_type": "stream",
     "text": [
      "\n",
      "t:   0%|          | 0/1072 [00:00<?, ?it/s, now=None]\u001b[A\n",
      "t:  26%|██▌       | 276/1072 [00:00<00:00, 2754.55it/s, now=None]\u001b[A\n",
      "t:  60%|█████▉    | 640/1072 [00:00<00:00, 3273.24it/s, now=None]\u001b[A\n",
      "t:  94%|█████████▍| 1005/1072 [00:00<00:00, 3444.35it/s, now=None]\u001b[A\n",
      "                                                                  \u001b[A"
     ]
    },
    {
     "name": "stdout",
     "output_type": "stream",
     "text": [
      "Moviepy - Done !\n",
      "Moviepy - video ready /home/chgaw002/DeepLearning/video/pong-dqn/rl-video-episode-2000.mp4\n",
      "Moviepy - Building video /home/chgaw002/DeepLearning/video/pong-dqn/rl-video-episode-2200.mp4.\n",
      "Moviepy - Writing video /home/chgaw002/DeepLearning/video/pong-dqn/rl-video-episode-2200.mp4\n",
      "\n"
     ]
    },
    {
     "name": "stderr",
     "output_type": "stream",
     "text": [
      "\n",
      "t:   0%|          | 0/1069 [00:00<?, ?it/s, now=None]\u001b[A\n",
      "t:  21%|██        | 226/1069 [00:00<00:00, 2257.47it/s, now=None]\u001b[A\n",
      "t:  54%|█████▎    | 573/1069 [00:00<00:00, 2969.07it/s, now=None]\u001b[A\n",
      "t:  87%|████████▋ | 934/1069 [00:00<00:00, 3258.95it/s, now=None]\u001b[A\n",
      "                                                                 \u001b[A"
     ]
    },
    {
     "name": "stdout",
     "output_type": "stream",
     "text": [
      "Moviepy - Done !\n",
      "Moviepy - video ready /home/chgaw002/DeepLearning/video/pong-dqn/rl-video-episode-2200.mp4\n",
      "Moviepy - Building video /home/chgaw002/DeepLearning/video/pong-dqn/rl-video-episode-2400.mp4.\n",
      "Moviepy - Writing video /home/chgaw002/DeepLearning/video/pong-dqn/rl-video-episode-2400.mp4\n",
      "\n"
     ]
    },
    {
     "name": "stderr",
     "output_type": "stream",
     "text": [
      "\n",
      "t:   0%|          | 0/766 [00:00<?, ?it/s, now=None]\u001b[A\n",
      "t:  39%|███▉      | 302/766 [00:00<00:00, 3019.00it/s, now=None]\u001b[A\n",
      "                                                                \u001b[A"
     ]
    },
    {
     "name": "stdout",
     "output_type": "stream",
     "text": [
      "Moviepy - Done !\n",
      "Moviepy - video ready /home/chgaw002/DeepLearning/video/pong-dqn/rl-video-episode-2400.mp4\n",
      "Moviepy - Building video /home/chgaw002/DeepLearning/video/pong-dqn/rl-video-episode-2600.mp4.\n",
      "Moviepy - Writing video /home/chgaw002/DeepLearning/video/pong-dqn/rl-video-episode-2600.mp4\n",
      "\n"
     ]
    },
    {
     "name": "stderr",
     "output_type": "stream",
     "text": [
      "\n",
      "t:   0%|          | 0/766 [00:00<?, ?it/s, now=None]\u001b[A\n",
      "t:  33%|███▎      | 250/766 [00:00<00:00, 2492.92it/s, now=None]\u001b[A\n",
      "t:  78%|███████▊  | 601/766 [00:00<00:00, 3082.56it/s, now=None]\u001b[A\n",
      "                                                                \u001b[A"
     ]
    },
    {
     "name": "stdout",
     "output_type": "stream",
     "text": [
      "Moviepy - Done !\n",
      "Moviepy - video ready /home/chgaw002/DeepLearning/video/pong-dqn/rl-video-episode-2600.mp4\n",
      "Moviepy - Building video /home/chgaw002/DeepLearning/video/pong-dqn/rl-video-episode-2800.mp4.\n",
      "Moviepy - Writing video /home/chgaw002/DeepLearning/video/pong-dqn/rl-video-episode-2800.mp4\n",
      "\n"
     ]
    },
    {
     "name": "stderr",
     "output_type": "stream",
     "text": [
      "\n",
      "t:   0%|          | 0/887 [00:00<?, ?it/s, now=None]\u001b[A\n",
      "t:  18%|█▊        | 156/887 [00:00<00:00, 1553.13it/s, now=None]\u001b[A\n",
      "t:  62%|██████▏   | 546/887 [00:00<00:00, 2930.39it/s, now=None]\u001b[A\n",
      "                                                                \u001b[A"
     ]
    },
    {
     "name": "stdout",
     "output_type": "stream",
     "text": [
      "Moviepy - Done !\n",
      "Moviepy - video ready /home/chgaw002/DeepLearning/video/pong-dqn/rl-video-episode-2800.mp4\n",
      "Moviepy - Building video /home/chgaw002/DeepLearning/video/pong-dqn/rl-video-episode-3000.mp4.\n",
      "Moviepy - Writing video /home/chgaw002/DeepLearning/video/pong-dqn/rl-video-episode-3000.mp4\n",
      "\n"
     ]
    },
    {
     "name": "stderr",
     "output_type": "stream",
     "text": [
      "\n",
      "t:   0%|          | 0/766 [00:00<?, ?it/s, now=None]\u001b[A\n",
      "t:  41%|████      | 314/766 [00:00<00:00, 3136.48it/s, now=None]\u001b[A\n",
      "                                                                \u001b[A"
     ]
    },
    {
     "name": "stdout",
     "output_type": "stream",
     "text": [
      "Moviepy - Done !\n",
      "Moviepy - video ready /home/chgaw002/DeepLearning/video/pong-dqn/rl-video-episode-3000.mp4\n",
      "Moviepy - Building video /home/chgaw002/DeepLearning/video/pong-dqn/rl-video-episode-3200.mp4.\n",
      "Moviepy - Writing video /home/chgaw002/DeepLearning/video/pong-dqn/rl-video-episode-3200.mp4\n",
      "\n"
     ]
    },
    {
     "name": "stderr",
     "output_type": "stream",
     "text": [
      "\n",
      "t:   0%|          | 0/939 [00:00<?, ?it/s, now=None]\u001b[A\n",
      "t:  30%|██▉       | 279/939 [00:00<00:00, 2785.22it/s, now=None]\u001b[A\n",
      "t:  68%|██████▊   | 634/939 [00:00<00:00, 3231.64it/s, now=None]\u001b[A\n",
      "                                                                \u001b[A"
     ]
    },
    {
     "name": "stdout",
     "output_type": "stream",
     "text": [
      "Moviepy - Done !\n",
      "Moviepy - video ready /home/chgaw002/DeepLearning/video/pong-dqn/rl-video-episode-3200.mp4\n",
      "Moviepy - Building video /home/chgaw002/DeepLearning/video/pong-dqn/rl-video-episode-3400.mp4.\n",
      "Moviepy - Writing video /home/chgaw002/DeepLearning/video/pong-dqn/rl-video-episode-3400.mp4\n",
      "\n"
     ]
    },
    {
     "name": "stderr",
     "output_type": "stream",
     "text": [
      "\n",
      "t:   0%|          | 0/826 [00:00<?, ?it/s, now=None]\u001b[A\n",
      "t:  34%|███▍      | 280/826 [00:00<00:00, 2799.40it/s, now=None]\u001b[A\n",
      "t:  78%|███████▊  | 642/826 [00:00<00:00, 3279.43it/s, now=None]\u001b[A\n",
      "                                                                \u001b[A"
     ]
    },
    {
     "name": "stdout",
     "output_type": "stream",
     "text": [
      "Moviepy - Done !\n",
      "Moviepy - video ready /home/chgaw002/DeepLearning/video/pong-dqn/rl-video-episode-3400.mp4\n"
     ]
    },
    {
     "name": "stderr",
     "output_type": "stream",
     "text": [
      "IOPub message rate exceeded.\n",
      "The Jupyter server will temporarily stop sending output\n",
      "to the client in order to avoid crashing it.\n",
      "To change this limit, set the config variable\n",
      "`--ServerApp.iopub_msg_rate_limit`.\n",
      "\n",
      "Current values:\n",
      "ServerApp.iopub_msg_rate_limit=1000.0 (msgs/sec)\n",
      "ServerApp.rate_limit_window=3.0 (secs)\n",
      "\n"
     ]
    },
    {
     "name": "stdout",
     "output_type": "stream",
     "text": [
      "Moviepy - Building video /home/chgaw002/DeepLearning/video/pong-dqn/rl-video-episode-5400.mp4.\n",
      "Moviepy - Writing video /home/chgaw002/DeepLearning/video/pong-dqn/rl-video-episode-5400.mp4\n",
      "\n"
     ]
    },
    {
     "name": "stderr",
     "output_type": "stream",
     "text": [
      "\n",
      "t:   0%|          | 0/826 [00:00<?, ?it/s, now=None]\u001b[A\n",
      "t:  41%|████      | 335/826 [00:00<00:00, 3346.92it/s, now=None]\u001b[A\n",
      "t:  98%|█████████▊| 806/826 [00:00<00:00, 4147.52it/s, now=None]\u001b[A\n",
      "                                                                \u001b[A"
     ]
    },
    {
     "name": "stdout",
     "output_type": "stream",
     "text": [
      "Moviepy - Done !\n",
      "Moviepy - video ready /home/chgaw002/DeepLearning/video/pong-dqn/rl-video-episode-5400.mp4\n",
      "Moviepy - Building video /home/chgaw002/DeepLearning/video/pong-dqn/rl-video-episode-5600.mp4.\n",
      "Moviepy - Writing video /home/chgaw002/DeepLearning/video/pong-dqn/rl-video-episode-5600.mp4\n",
      "\n"
     ]
    },
    {
     "name": "stderr",
     "output_type": "stream",
     "text": [
      "\n",
      "t:   0%|          | 0/826 [00:00<?, ?it/s, now=None]\u001b[A\n",
      "t:  42%|████▏     | 348/826 [00:00<00:00, 3479.41it/s, now=None]\u001b[A\n",
      "t:  98%|█████████▊| 810/826 [00:00<00:00, 4150.14it/s, now=None]\u001b[A\n",
      "                                                                \u001b[A"
     ]
    },
    {
     "name": "stdout",
     "output_type": "stream",
     "text": [
      "Moviepy - Done !\n",
      "Moviepy - video ready /home/chgaw002/DeepLearning/video/pong-dqn/rl-video-episode-5600.mp4\n",
      "Moviepy - Building video /home/chgaw002/DeepLearning/video/pong-dqn/rl-video-episode-5800.mp4.\n",
      "Moviepy - Writing video /home/chgaw002/DeepLearning/video/pong-dqn/rl-video-episode-5800.mp4\n",
      "\n"
     ]
    },
    {
     "name": "stderr",
     "output_type": "stream",
     "text": [
      "\n",
      "t:   0%|          | 0/826 [00:00<?, ?it/s, now=None]\u001b[A\n",
      "t:  24%|██▍       | 201/826 [00:00<00:00, 2004.70it/s, now=None]\u001b[A\n",
      "t:  65%|██████▍   | 535/826 [00:00<00:00, 2785.99it/s, now=None]\u001b[A\n",
      "                                                                \u001b[A"
     ]
    },
    {
     "name": "stdout",
     "output_type": "stream",
     "text": [
      "Moviepy - Done !\n",
      "Moviepy - video ready /home/chgaw002/DeepLearning/video/pong-dqn/rl-video-episode-5800.mp4\n",
      "Moviepy - Building video /home/chgaw002/DeepLearning/video/pong-dqn/rl-video-episode-6000.mp4.\n",
      "Moviepy - Writing video /home/chgaw002/DeepLearning/video/pong-dqn/rl-video-episode-6000.mp4\n",
      "\n"
     ]
    },
    {
     "name": "stderr",
     "output_type": "stream",
     "text": [
      "\n",
      "t:   0%|          | 0/766 [00:00<?, ?it/s, now=None]\u001b[A\n",
      "t:  48%|████▊     | 371/766 [00:00<00:00, 3709.25it/s, now=None]\u001b[A\n",
      "                                                                \u001b[A"
     ]
    },
    {
     "name": "stdout",
     "output_type": "stream",
     "text": [
      "Moviepy - Done !\n",
      "Moviepy - video ready /home/chgaw002/DeepLearning/video/pong-dqn/rl-video-episode-6000.mp4\n",
      "Moviepy - Building video /home/chgaw002/DeepLearning/video/pong-dqn/rl-video-episode-6200.mp4.\n",
      "Moviepy - Writing video /home/chgaw002/DeepLearning/video/pong-dqn/rl-video-episode-6200.mp4\n",
      "\n"
     ]
    },
    {
     "name": "stderr",
     "output_type": "stream",
     "text": [
      "\n",
      "t:   0%|          | 0/826 [00:00<?, ?it/s, now=None]\u001b[A\n",
      "t:  39%|███▉      | 325/826 [00:00<00:00, 3243.91it/s, now=None]\u001b[A\n",
      "t:  94%|█████████▍| 779/826 [00:00<00:00, 4001.46it/s, now=None]\u001b[A\n",
      "                                                                \u001b[A"
     ]
    },
    {
     "name": "stdout",
     "output_type": "stream",
     "text": [
      "Moviepy - Done !\n",
      "Moviepy - video ready /home/chgaw002/DeepLearning/video/pong-dqn/rl-video-episode-6200.mp4\n",
      "Moviepy - Building video /home/chgaw002/DeepLearning/video/pong-dqn/rl-video-episode-6400.mp4.\n",
      "Moviepy - Writing video /home/chgaw002/DeepLearning/video/pong-dqn/rl-video-episode-6400.mp4\n",
      "\n"
     ]
    },
    {
     "name": "stderr",
     "output_type": "stream",
     "text": [
      "\n",
      "t:   0%|          | 0/1191 [00:00<?, ?it/s, now=None]\u001b[A\n",
      "t:  18%|█▊        | 220/1191 [00:00<00:00, 2196.10it/s, now=None]\u001b[A\n",
      "t:  45%|████▍     | 535/1191 [00:00<00:00, 2752.01it/s, now=None]\u001b[A\n",
      "t:  80%|████████  | 957/1191 [00:00<00:00, 3419.96it/s, now=None]\u001b[A\n",
      "                                                                 \u001b[A"
     ]
    },
    {
     "name": "stdout",
     "output_type": "stream",
     "text": [
      "Moviepy - Done !\n",
      "Moviepy - video ready /home/chgaw002/DeepLearning/video/pong-dqn/rl-video-episode-6400.mp4\n",
      "Moviepy - Building video /home/chgaw002/DeepLearning/video/pong-dqn/rl-video-episode-6600.mp4.\n",
      "Moviepy - Writing video /home/chgaw002/DeepLearning/video/pong-dqn/rl-video-episode-6600.mp4\n",
      "\n"
     ]
    },
    {
     "name": "stderr",
     "output_type": "stream",
     "text": [
      "\n",
      "t:   0%|          | 0/826 [00:00<?, ?it/s, now=None]\u001b[A\n",
      "t:  31%|███       | 255/826 [00:00<00:00, 2546.81it/s, now=None]\u001b[A\n",
      "t:  87%|████████▋ | 718/826 [00:00<00:00, 3769.46it/s, now=None]\u001b[A\n",
      "                                                                \u001b[A"
     ]
    },
    {
     "name": "stdout",
     "output_type": "stream",
     "text": [
      "Moviepy - Done !\n",
      "Moviepy - video ready /home/chgaw002/DeepLearning/video/pong-dqn/rl-video-episode-6600.mp4\n",
      "Moviepy - Building video /home/chgaw002/DeepLearning/video/pong-dqn/rl-video-episode-6800.mp4.\n",
      "Moviepy - Writing video /home/chgaw002/DeepLearning/video/pong-dqn/rl-video-episode-6800.mp4\n",
      "\n"
     ]
    },
    {
     "name": "stderr",
     "output_type": "stream",
     "text": [
      "\n",
      "t:   0%|          | 0/844 [00:00<?, ?it/s, now=None]\u001b[A\n",
      "t:  43%|████▎     | 365/844 [00:00<00:00, 3642.86it/s, now=None]\u001b[A\n",
      "                                                                \u001b[A"
     ]
    },
    {
     "name": "stdout",
     "output_type": "stream",
     "text": [
      "Moviepy - Done !\n",
      "Moviepy - video ready /home/chgaw002/DeepLearning/video/pong-dqn/rl-video-episode-6800.mp4\n"
     ]
    },
    {
     "name": "stderr",
     "output_type": "stream",
     "text": [
      "IOPub message rate exceeded.\n",
      "The Jupyter server will temporarily stop sending output\n",
      "to the client in order to avoid crashing it.\n",
      "To change this limit, set the config variable\n",
      "`--ServerApp.iopub_msg_rate_limit`.\n",
      "\n",
      "Current values:\n",
      "ServerApp.iopub_msg_rate_limit=1000.0 (msgs/sec)\n",
      "ServerApp.rate_limit_window=3.0 (secs)\n",
      "\n"
     ]
    },
    {
     "name": "stdout",
     "output_type": "stream",
     "text": [
      "Moviepy - Building video /home/chgaw002/DeepLearning/video/pong-dqn/rl-video-episode-9000.mp4.\n",
      "Moviepy - Writing video /home/chgaw002/DeepLearning/video/pong-dqn/rl-video-episode-9000.mp4\n",
      "\n"
     ]
    },
    {
     "name": "stderr",
     "output_type": "stream",
     "text": [
      "\n",
      "t:   0%|          | 0/904 [00:00<?, ?it/s, now=None]\u001b[A\n",
      "t:  32%|███▏      | 290/904 [00:00<00:00, 2881.09it/s, now=None]\u001b[A\n",
      "t:  74%|███████▎  | 665/904 [00:00<00:00, 3386.11it/s, now=None]\u001b[A\n",
      "                                                                \u001b[A"
     ]
    },
    {
     "name": "stdout",
     "output_type": "stream",
     "text": [
      "Moviepy - Done !\n",
      "Moviepy - video ready /home/chgaw002/DeepLearning/video/pong-dqn/rl-video-episode-9000.mp4\n",
      "Moviepy - Building video /home/chgaw002/DeepLearning/video/pong-dqn/rl-video-episode-9200.mp4.\n",
      "Moviepy - Writing video /home/chgaw002/DeepLearning/video/pong-dqn/rl-video-episode-9200.mp4\n",
      "\n"
     ]
    },
    {
     "name": "stderr",
     "output_type": "stream",
     "text": [
      "\n",
      "t:   0%|          | 0/766 [00:00<?, ?it/s, now=None]\u001b[A\n",
      "t:  49%|████▊     | 372/766 [00:00<00:00, 3714.07it/s, now=None]\u001b[A\n",
      "                                                                \u001b[A"
     ]
    },
    {
     "name": "stdout",
     "output_type": "stream",
     "text": [
      "Moviepy - Done !\n",
      "Moviepy - video ready /home/chgaw002/DeepLearning/video/pong-dqn/rl-video-episode-9200.mp4\n",
      "Moviepy - Building video /home/chgaw002/DeepLearning/video/pong-dqn/rl-video-episode-9400.mp4.\n",
      "Moviepy - Writing video /home/chgaw002/DeepLearning/video/pong-dqn/rl-video-episode-9400.mp4\n",
      "\n"
     ]
    },
    {
     "name": "stderr",
     "output_type": "stream",
     "text": [
      "\n",
      "t:   0%|          | 0/828 [00:00<?, ?it/s, now=None]\u001b[A\n",
      "t:  32%|███▏      | 268/828 [00:00<00:00, 2678.69it/s, now=None]\u001b[A\n",
      "t:  81%|████████  | 668/828 [00:00<00:00, 3455.76it/s, now=None]\u001b[A\n",
      "                                                                \u001b[A"
     ]
    },
    {
     "name": "stdout",
     "output_type": "stream",
     "text": [
      "Moviepy - Done !\n",
      "Moviepy - video ready /home/chgaw002/DeepLearning/video/pong-dqn/rl-video-episode-9400.mp4\n",
      "Moviepy - Building video /home/chgaw002/DeepLearning/video/pong-dqn/rl-video-episode-9600.mp4.\n",
      "Moviepy - Writing video /home/chgaw002/DeepLearning/video/pong-dqn/rl-video-episode-9600.mp4\n",
      "\n"
     ]
    },
    {
     "name": "stderr",
     "output_type": "stream",
     "text": [
      "\n",
      "t:   0%|          | 0/766 [00:00<?, ?it/s, now=None]\u001b[A\n",
      "t:  35%|███▍      | 265/766 [00:00<00:00, 2646.19it/s, now=None]\u001b[A\n",
      "t:  74%|███████▍  | 570/766 [00:00<00:00, 2882.95it/s, now=None]\u001b[A\n",
      "                                                                \u001b[A"
     ]
    },
    {
     "name": "stdout",
     "output_type": "stream",
     "text": [
      "Moviepy - Done !\n",
      "Moviepy - video ready /home/chgaw002/DeepLearning/video/pong-dqn/rl-video-episode-9600.mp4\n",
      "Moviepy - Building video /home/chgaw002/DeepLearning/video/pong-dqn/rl-video-episode-9800.mp4.\n",
      "Moviepy - Writing video /home/chgaw002/DeepLearning/video/pong-dqn/rl-video-episode-9800.mp4\n",
      "\n"
     ]
    },
    {
     "name": "stderr",
     "output_type": "stream",
     "text": [
      "\n",
      "t:   0%|          | 0/766 [00:00<?, ?it/s, now=None]\u001b[A\n",
      "t:  35%|███▌      | 269/766 [00:00<00:00, 2684.04it/s, now=None]\u001b[A\n",
      "t:  84%|████████▍ | 642/766 [00:00<00:00, 3294.83it/s, now=None]\u001b[A\n",
      "                                                                \u001b[A"
     ]
    },
    {
     "name": "stdout",
     "output_type": "stream",
     "text": [
      "Moviepy - Done !\n",
      "Moviepy - video ready /home/chgaw002/DeepLearning/video/pong-dqn/rl-video-episode-9800.mp4\n",
      "Moviepy - Building video /home/chgaw002/DeepLearning/video/pong-dqn/rl-video-episode-10000.mp4.\n",
      "Moviepy - Writing video /home/chgaw002/DeepLearning/video/pong-dqn/rl-video-episode-10000.mp4\n",
      "\n"
     ]
    },
    {
     "name": "stderr",
     "output_type": "stream",
     "text": [
      "\n",
      "t:   0%|          | 0/827 [00:00<?, ?it/s, now=None]\u001b[A\n",
      "t:  28%|██▊       | 231/827 [00:00<00:00, 2309.15it/s, now=None]\u001b[A\n",
      "t:  70%|███████   | 583/827 [00:00<00:00, 3021.02it/s, now=None]\u001b[A\n",
      "                                                                \u001b[A"
     ]
    },
    {
     "name": "stdout",
     "output_type": "stream",
     "text": [
      "Moviepy - Done !\n",
      "Moviepy - video ready /home/chgaw002/DeepLearning/video/pong-dqn/rl-video-episode-10000.mp4\n",
      "Moviepy - Building video /home/chgaw002/DeepLearning/video/pong-dqn/rl-video-episode-10200.mp4.\n",
      "Moviepy - Writing video /home/chgaw002/DeepLearning/video/pong-dqn/rl-video-episode-10200.mp4\n",
      "\n"
     ]
    },
    {
     "name": "stderr",
     "output_type": "stream",
     "text": [
      "\n",
      "t:   0%|          | 0/766 [00:00<?, ?it/s, now=None]\u001b[A\n",
      "t:  33%|███▎      | 252/766 [00:00<00:00, 2517.01it/s, now=None]\u001b[A\n",
      "t:  87%|████████▋ | 670/766 [00:00<00:00, 3494.08it/s, now=None]\u001b[A\n",
      "                                                                \u001b[A"
     ]
    },
    {
     "name": "stdout",
     "output_type": "stream",
     "text": [
      "Moviepy - Done !\n",
      "Moviepy - video ready /home/chgaw002/DeepLearning/video/pong-dqn/rl-video-episode-10200.mp4\n",
      "Moviepy - Building video /home/chgaw002/DeepLearning/video/pong-dqn/rl-video-episode-10400.mp4.\n",
      "Moviepy - Writing video /home/chgaw002/DeepLearning/video/pong-dqn/rl-video-episode-10400.mp4\n",
      "\n"
     ]
    },
    {
     "name": "stderr",
     "output_type": "stream",
     "text": [
      "\n",
      "t:   0%|          | 0/766 [00:00<?, ?it/s, now=None]\u001b[A\n",
      "t:  34%|███▍      | 263/766 [00:00<00:00, 2624.79it/s, now=None]\u001b[A\n",
      "t:  78%|███████▊  | 596/766 [00:00<00:00, 3033.96it/s, now=None]\u001b[A\n",
      "                                                                \u001b[A"
     ]
    },
    {
     "name": "stdout",
     "output_type": "stream",
     "text": [
      "Moviepy - Done !\n",
      "Moviepy - video ready /home/chgaw002/DeepLearning/video/pong-dqn/rl-video-episode-10400.mp4\n",
      "Moviepy - Building video /home/chgaw002/DeepLearning/video/pong-dqn/rl-video-episode-10600.mp4.\n",
      "Moviepy - Writing video /home/chgaw002/DeepLearning/video/pong-dqn/rl-video-episode-10600.mp4\n",
      "\n"
     ]
    },
    {
     "name": "stderr",
     "output_type": "stream",
     "text": [
      "\n",
      "t:   0%|          | 0/846 [00:00<?, ?it/s, now=None]\u001b[A\n",
      "t:  39%|███▊      | 327/846 [00:00<00:00, 3269.56it/s, now=None]\u001b[A\n",
      "t:  94%|█████████▎| 793/846 [00:00<00:00, 4086.91it/s, now=None]\u001b[A\n",
      "                                                                \u001b[A"
     ]
    },
    {
     "name": "stdout",
     "output_type": "stream",
     "text": [
      "Moviepy - Done !\n",
      "Moviepy - video ready /home/chgaw002/DeepLearning/video/pong-dqn/rl-video-episode-10600.mp4\n",
      "Moviepy - Building video /home/chgaw002/DeepLearning/video/pong-dqn/rl-video-episode-10800.mp4.\n",
      "Moviepy - Writing video /home/chgaw002/DeepLearning/video/pong-dqn/rl-video-episode-10800.mp4\n",
      "\n"
     ]
    },
    {
     "name": "stderr",
     "output_type": "stream",
     "text": [
      "\n",
      "t:   0%|          | 0/826 [00:00<?, ?it/s, now=None]\u001b[A\n",
      "t:  30%|██▉       | 244/826 [00:00<00:00, 2437.64it/s, now=None]\u001b[A\n",
      "t:  71%|███████   | 588/826 [00:00<00:00, 3024.11it/s, now=None]\u001b[A\n",
      "                                                                \u001b[A"
     ]
    },
    {
     "name": "stdout",
     "output_type": "stream",
     "text": [
      "Moviepy - Done !\n",
      "Moviepy - video ready /home/chgaw002/DeepLearning/video/pong-dqn/rl-video-episode-10800.mp4\n",
      "Moviepy - Building video /home/chgaw002/DeepLearning/video/pong-dqn/rl-video-episode-11000.mp4.\n",
      "Moviepy - Writing video /home/chgaw002/DeepLearning/video/pong-dqn/rl-video-episode-11000.mp4\n",
      "\n"
     ]
    },
    {
     "name": "stderr",
     "output_type": "stream",
     "text": [
      "\n",
      "t:   0%|          | 0/826 [00:00<?, ?it/s, now=None]\u001b[A\n",
      "t:  42%|████▏     | 350/826 [00:00<00:00, 3498.84it/s, now=None]\u001b[A\n",
      "                                                                \u001b[A"
     ]
    },
    {
     "name": "stdout",
     "output_type": "stream",
     "text": [
      "Moviepy - Done !\n",
      "Moviepy - video ready /home/chgaw002/DeepLearning/video/pong-dqn/rl-video-episode-11000.mp4\n",
      "Moviepy - Building video /home/chgaw002/DeepLearning/video/pong-dqn/rl-video-episode-11200.mp4.\n",
      "Moviepy - Writing video /home/chgaw002/DeepLearning/video/pong-dqn/rl-video-episode-11200.mp4\n",
      "\n"
     ]
    },
    {
     "name": "stderr",
     "output_type": "stream",
     "text": [
      "\n",
      "t:   0%|          | 0/766 [00:00<?, ?it/s, now=None]\u001b[A\n",
      "t:  23%|██▎       | 179/766 [00:00<00:00, 1786.92it/s, now=None]\u001b[A\n",
      "t:  73%|███████▎  | 556/766 [00:00<00:00, 2950.09it/s, now=None]\u001b[A\n",
      "                                                                \u001b[A"
     ]
    },
    {
     "name": "stdout",
     "output_type": "stream",
     "text": [
      "Moviepy - Done !\n",
      "Moviepy - video ready /home/chgaw002/DeepLearning/video/pong-dqn/rl-video-episode-11200.mp4\n",
      "Moviepy - Building video /home/chgaw002/DeepLearning/video/pong-dqn/rl-video-episode-11400.mp4.\n",
      "Moviepy - Writing video /home/chgaw002/DeepLearning/video/pong-dqn/rl-video-episode-11400.mp4\n",
      "\n"
     ]
    },
    {
     "name": "stderr",
     "output_type": "stream",
     "text": [
      "\n",
      "t:   0%|          | 0/826 [00:00<?, ?it/s, now=None]\u001b[A\n",
      "t:  31%|███       | 255/826 [00:00<00:00, 2547.25it/s, now=None]\u001b[A\n",
      "t:  75%|███████▌  | 620/826 [00:00<00:00, 3190.33it/s, now=None]\u001b[A\n",
      "                                                                \u001b[A"
     ]
    },
    {
     "name": "stdout",
     "output_type": "stream",
     "text": [
      "Moviepy - Done !\n",
      "Moviepy - video ready /home/chgaw002/DeepLearning/video/pong-dqn/rl-video-episode-11400.mp4\n",
      "Moviepy - Building video /home/chgaw002/DeepLearning/video/pong-dqn/rl-video-episode-11600.mp4.\n",
      "Moviepy - Writing video /home/chgaw002/DeepLearning/video/pong-dqn/rl-video-episode-11600.mp4\n",
      "\n"
     ]
    },
    {
     "name": "stderr",
     "output_type": "stream",
     "text": [
      "\n",
      "t:   0%|          | 0/766 [00:00<?, ?it/s, now=None]\u001b[A\n",
      "t:  32%|███▏      | 243/766 [00:00<00:00, 2429.86it/s, now=None]\u001b[A\n",
      "t:  80%|███████▉  | 612/766 [00:00<00:00, 3165.47it/s, now=None]\u001b[A\n",
      "                                                                \u001b[A"
     ]
    },
    {
     "name": "stdout",
     "output_type": "stream",
     "text": [
      "Moviepy - Done !\n",
      "Moviepy - video ready /home/chgaw002/DeepLearning/video/pong-dqn/rl-video-episode-11600.mp4\n",
      "Moviepy - Building video /home/chgaw002/DeepLearning/video/pong-dqn/rl-video-episode-11800.mp4.\n",
      "Moviepy - Writing video /home/chgaw002/DeepLearning/video/pong-dqn/rl-video-episode-11800.mp4\n",
      "\n"
     ]
    },
    {
     "name": "stderr",
     "output_type": "stream",
     "text": [
      "\n",
      "t:   0%|          | 0/826 [00:00<?, ?it/s, now=None]\u001b[A\n",
      "t:  30%|██▉       | 247/826 [00:00<00:00, 2467.26it/s, now=None]\u001b[A\n",
      "t:  72%|███████▏  | 597/826 [00:00<00:00, 3074.19it/s, now=None]\u001b[A\n",
      "                                                                \u001b[A"
     ]
    },
    {
     "name": "stdout",
     "output_type": "stream",
     "text": [
      "Moviepy - Done !\n",
      "Moviepy - video ready /home/chgaw002/DeepLearning/video/pong-dqn/rl-video-episode-11800.mp4\n",
      "Moviepy - Building video /home/chgaw002/DeepLearning/video/pong-dqn/rl-video-episode-12000.mp4.\n",
      "Moviepy - Writing video /home/chgaw002/DeepLearning/video/pong-dqn/rl-video-episode-12000.mp4\n",
      "\n"
     ]
    },
    {
     "name": "stderr",
     "output_type": "stream",
     "text": [
      "\n",
      "t:   0%|          | 0/766 [00:00<?, ?it/s, now=None]\u001b[A\n",
      "t:  32%|███▏      | 245/766 [00:00<00:00, 2427.42it/s, now=None]\u001b[A\n",
      "t:  81%|████████  | 620/766 [00:00<00:00, 3197.04it/s, now=None]\u001b[A\n",
      "                                                                \u001b[A"
     ]
    },
    {
     "name": "stdout",
     "output_type": "stream",
     "text": [
      "Moviepy - Done !\n",
      "Moviepy - video ready /home/chgaw002/DeepLearning/video/pong-dqn/rl-video-episode-12000.mp4\n",
      "Moviepy - Building video /home/chgaw002/DeepLearning/video/pong-dqn/rl-video-episode-12200.mp4.\n",
      "Moviepy - Writing video /home/chgaw002/DeepLearning/video/pong-dqn/rl-video-episode-12200.mp4\n",
      "\n"
     ]
    },
    {
     "name": "stderr",
     "output_type": "stream",
     "text": [
      "\n",
      "t:   0%|          | 0/766 [00:00<?, ?it/s, now=None]\u001b[A\n",
      "t:  35%|███▍      | 265/766 [00:00<00:00, 2646.81it/s, now=None]\u001b[A\n",
      "t:  78%|███████▊  | 596/766 [00:00<00:00, 3034.17it/s, now=None]\u001b[A\n",
      "                                                                \u001b[A"
     ]
    },
    {
     "name": "stdout",
     "output_type": "stream",
     "text": [
      "Moviepy - Done !\n",
      "Moviepy - video ready /home/chgaw002/DeepLearning/video/pong-dqn/rl-video-episode-12200.mp4\n",
      "Moviepy - Building video /home/chgaw002/DeepLearning/video/pong-dqn/rl-video-episode-12400.mp4.\n",
      "Moviepy - Writing video /home/chgaw002/DeepLearning/video/pong-dqn/rl-video-episode-12400.mp4\n",
      "\n"
     ]
    },
    {
     "name": "stderr",
     "output_type": "stream",
     "text": [
      "\n",
      "t:   0%|          | 0/766 [00:00<?, ?it/s, now=None]\u001b[A\n",
      "t:  38%|███▊      | 288/766 [00:00<00:00, 2878.51it/s, now=None]\u001b[A\n",
      "t:  80%|███████▉  | 609/766 [00:00<00:00, 3072.95it/s, now=None]\u001b[A\n",
      "                                                                \u001b[A"
     ]
    },
    {
     "name": "stdout",
     "output_type": "stream",
     "text": [
      "Moviepy - Done !\n",
      "Moviepy - video ready /home/chgaw002/DeepLearning/video/pong-dqn/rl-video-episode-12400.mp4\n"
     ]
    },
    {
     "name": "stderr",
     "output_type": "stream",
     "text": [
      "IOPub message rate exceeded.\n",
      "The Jupyter server will temporarily stop sending output\n",
      "to the client in order to avoid crashing it.\n",
      "To change this limit, set the config variable\n",
      "`--ServerApp.iopub_msg_rate_limit`.\n",
      "\n",
      "Current values:\n",
      "ServerApp.iopub_msg_rate_limit=1000.0 (msgs/sec)\n",
      "ServerApp.rate_limit_window=3.0 (secs)\n",
      "\n"
     ]
    },
    {
     "name": "stdout",
     "output_type": "stream",
     "text": [
      "Moviepy - Building video /home/chgaw002/DeepLearning/video/pong-dqn/rl-video-episode-14000.mp4.\n",
      "Moviepy - Writing video /home/chgaw002/DeepLearning/video/pong-dqn/rl-video-episode-14000.mp4\n",
      "\n"
     ]
    },
    {
     "name": "stderr",
     "output_type": "stream",
     "text": [
      "\n",
      "t:   0%|          | 0/826 [00:00<?, ?it/s, now=None]\u001b[A\n",
      "t:  32%|███▏      | 262/826 [00:00<00:00, 2615.56it/s, now=None]\u001b[A\n",
      "t:  79%|███████▉  | 652/826 [00:00<00:00, 3369.50it/s, now=None]\u001b[A\n",
      "                                                                \u001b[A"
     ]
    },
    {
     "name": "stdout",
     "output_type": "stream",
     "text": [
      "Moviepy - Done !\n",
      "Moviepy - video ready /home/chgaw002/DeepLearning/video/pong-dqn/rl-video-episode-14000.mp4\n",
      "Moviepy - Building video /home/chgaw002/DeepLearning/video/pong-dqn/rl-video-episode-14200.mp4.\n",
      "Moviepy - Writing video /home/chgaw002/DeepLearning/video/pong-dqn/rl-video-episode-14200.mp4\n",
      "\n"
     ]
    },
    {
     "name": "stderr",
     "output_type": "stream",
     "text": [
      "\n",
      "t:   0%|          | 0/827 [00:00<?, ?it/s, now=None]\u001b[A\n",
      "t:  36%|███▌      | 298/827 [00:00<00:00, 2977.24it/s, now=None]\u001b[A\n",
      "t:  97%|█████████▋| 802/827 [00:00<00:00, 4186.91it/s, now=None]\u001b[A\n",
      "                                                                \u001b[A"
     ]
    },
    {
     "name": "stdout",
     "output_type": "stream",
     "text": [
      "Moviepy - Done !\n",
      "Moviepy - video ready /home/chgaw002/DeepLearning/video/pong-dqn/rl-video-episode-14200.mp4\n",
      "Moviepy - Building video /home/chgaw002/DeepLearning/video/pong-dqn/rl-video-episode-14400.mp4.\n",
      "Moviepy - Writing video /home/chgaw002/DeepLearning/video/pong-dqn/rl-video-episode-14400.mp4\n",
      "\n"
     ]
    },
    {
     "name": "stderr",
     "output_type": "stream",
     "text": [
      "\n",
      "t:   0%|          | 0/826 [00:00<?, ?it/s, now=None]\u001b[A\n",
      "t:  32%|███▏      | 268/826 [00:00<00:00, 2675.82it/s, now=None]\u001b[A\n",
      "t:  73%|███████▎  | 602/826 [00:00<00:00, 3062.72it/s, now=None]\u001b[A\n",
      "                                                                \u001b[A"
     ]
    },
    {
     "name": "stdout",
     "output_type": "stream",
     "text": [
      "Moviepy - Done !\n",
      "Moviepy - video ready /home/chgaw002/DeepLearning/video/pong-dqn/rl-video-episode-14400.mp4\n",
      "Moviepy - Building video /home/chgaw002/DeepLearning/video/pong-dqn/rl-video-episode-14600.mp4.\n",
      "Moviepy - Writing video /home/chgaw002/DeepLearning/video/pong-dqn/rl-video-episode-14600.mp4\n",
      "\n"
     ]
    },
    {
     "name": "stderr",
     "output_type": "stream",
     "text": [
      "\n",
      "t:   0%|          | 0/827 [00:00<?, ?it/s, now=None]\u001b[A\n",
      "t:  30%|██▉       | 247/827 [00:00<00:00, 2465.12it/s, now=None]\u001b[A\n",
      "t:  72%|███████▏  | 598/827 [00:00<00:00, 3076.67it/s, now=None]\u001b[A\n",
      "                                                                \u001b[A"
     ]
    },
    {
     "name": "stdout",
     "output_type": "stream",
     "text": [
      "Moviepy - Done !\n",
      "Moviepy - video ready /home/chgaw002/DeepLearning/video/pong-dqn/rl-video-episode-14600.mp4\n",
      "Moviepy - Building video /home/chgaw002/DeepLearning/video/pong-dqn/rl-video-episode-14800.mp4.\n",
      "Moviepy - Writing video /home/chgaw002/DeepLearning/video/pong-dqn/rl-video-episode-14800.mp4\n",
      "\n"
     ]
    },
    {
     "name": "stderr",
     "output_type": "stream",
     "text": [
      "\n",
      "t:   0%|          | 0/766 [00:00<?, ?it/s, now=None]\u001b[A\n",
      "t:  36%|███▌      | 273/766 [00:00<00:00, 2723.08it/s, now=None]\u001b[A\n",
      "t:  83%|████████▎ | 637/766 [00:00<00:00, 3258.25it/s, now=None]\u001b[A\n",
      "                                                                \u001b[A"
     ]
    },
    {
     "name": "stdout",
     "output_type": "stream",
     "text": [
      "Moviepy - Done !\n",
      "Moviepy - video ready /home/chgaw002/DeepLearning/video/pong-dqn/rl-video-episode-14800.mp4\n",
      "Moviepy - Building video /home/chgaw002/DeepLearning/video/pong-dqn/rl-video-episode-15000.mp4.\n",
      "Moviepy - Writing video /home/chgaw002/DeepLearning/video/pong-dqn/rl-video-episode-15000.mp4\n",
      "\n"
     ]
    },
    {
     "name": "stderr",
     "output_type": "stream",
     "text": [
      "\n",
      "t:   0%|          | 0/888 [00:00<?, ?it/s, now=None]\u001b[A\n",
      "t:  33%|███▎      | 295/888 [00:00<00:00, 2949.64it/s, now=None]\u001b[A\n",
      "t:  84%|████████▎ | 742/888 [00:00<00:00, 3841.93it/s, now=None]\u001b[A\n",
      "                                                                \u001b[A"
     ]
    },
    {
     "name": "stdout",
     "output_type": "stream",
     "text": [
      "Moviepy - Done !\n",
      "Moviepy - video ready /home/chgaw002/DeepLearning/video/pong-dqn/rl-video-episode-15000.mp4\n",
      "Moviepy - Building video /home/chgaw002/DeepLearning/video/pong-dqn/rl-video-episode-15200.mp4.\n",
      "Moviepy - Writing video /home/chgaw002/DeepLearning/video/pong-dqn/rl-video-episode-15200.mp4\n",
      "\n"
     ]
    },
    {
     "name": "stderr",
     "output_type": "stream",
     "text": [
      "\n",
      "t:   0%|          | 0/826 [00:00<?, ?it/s, now=None]\u001b[A\n",
      "t:  37%|███▋      | 309/826 [00:00<00:00, 3085.49it/s, now=None]\u001b[A\n",
      "t:  83%|████████▎ | 688/826 [00:00<00:00, 3498.32it/s, now=None]\u001b[A\n",
      "                                                                \u001b[A"
     ]
    },
    {
     "name": "stdout",
     "output_type": "stream",
     "text": [
      "Moviepy - Done !\n",
      "Moviepy - video ready /home/chgaw002/DeepLearning/video/pong-dqn/rl-video-episode-15200.mp4\n",
      "Moviepy - Building video /home/chgaw002/DeepLearning/video/pong-dqn/rl-video-episode-15800.mp4.\n",
      "Moviepy - Writing video /home/chgaw002/DeepLearning/video/pong-dqn/rl-video-episode-15800.mp4\n",
      "\n"
     ]
    },
    {
     "name": "stderr",
     "output_type": "stream",
     "text": [
      "\n",
      "t:   0%|          | 0/766 [00:00<?, ?it/s, now=None]\u001b[A\n",
      "t:  34%|███▍      | 259/766 [00:00<00:00, 2586.73it/s, now=None]\u001b[A\n",
      "t:  82%|████████▏ | 625/766 [00:00<00:00, 3208.85it/s, now=None]\u001b[A\n",
      "                                                                \u001b[A"
     ]
    },
    {
     "name": "stdout",
     "output_type": "stream",
     "text": [
      "Moviepy - Done !\n",
      "Moviepy - video ready /home/chgaw002/DeepLearning/video/pong-dqn/rl-video-episode-15800.mp4\n",
      "Moviepy - Building video /home/chgaw002/DeepLearning/video/pong-dqn/rl-video-episode-16000.mp4.\n",
      "Moviepy - Writing video /home/chgaw002/DeepLearning/video/pong-dqn/rl-video-episode-16000.mp4\n",
      "\n"
     ]
    },
    {
     "name": "stderr",
     "output_type": "stream",
     "text": [
      "\n",
      "t:   0%|          | 0/766 [00:00<?, ?it/s, now=None]\u001b[A\n",
      "t:  35%|███▍      | 268/766 [00:00<00:00, 2679.93it/s, now=None]\u001b[A\n",
      "t:  84%|████████▍ | 645/766 [00:00<00:00, 3315.99it/s, now=None]\u001b[A\n",
      "                                                                \u001b[A"
     ]
    },
    {
     "name": "stdout",
     "output_type": "stream",
     "text": [
      "Moviepy - Done !\n",
      "Moviepy - video ready /home/chgaw002/DeepLearning/video/pong-dqn/rl-video-episode-16000.mp4\n",
      "Moviepy - Building video /home/chgaw002/DeepLearning/video/pong-dqn/rl-video-episode-16200.mp4.\n",
      "Moviepy - Writing video /home/chgaw002/DeepLearning/video/pong-dqn/rl-video-episode-16200.mp4\n",
      "\n"
     ]
    },
    {
     "name": "stderr",
     "output_type": "stream",
     "text": [
      "\n",
      "t:   0%|          | 0/844 [00:00<?, ?it/s, now=None]\u001b[A\n",
      "t:  32%|███▏      | 269/844 [00:00<00:00, 2683.25it/s, now=None]\u001b[A\n",
      "t:  72%|███████▏  | 611/844 [00:00<00:00, 3116.15it/s, now=None]\u001b[A\n",
      "                                                                \u001b[A"
     ]
    },
    {
     "name": "stdout",
     "output_type": "stream",
     "text": [
      "Moviepy - Done !\n",
      "Moviepy - video ready /home/chgaw002/DeepLearning/video/pong-dqn/rl-video-episode-16200.mp4\n",
      "Moviepy - Building video /home/chgaw002/DeepLearning/video/pong-dqn/rl-video-episode-16400.mp4.\n",
      "Moviepy - Writing video /home/chgaw002/DeepLearning/video/pong-dqn/rl-video-episode-16400.mp4\n",
      "\n"
     ]
    },
    {
     "name": "stderr",
     "output_type": "stream",
     "text": [
      "\n",
      "t:   0%|          | 0/766 [00:00<?, ?it/s, now=None]\u001b[A\n",
      "t:  49%|████▊     | 372/766 [00:00<00:00, 3716.04it/s, now=None]\u001b[A\n",
      "                                                                \u001b[A"
     ]
    },
    {
     "name": "stdout",
     "output_type": "stream",
     "text": [
      "Moviepy - Done !\n",
      "Moviepy - video ready /home/chgaw002/DeepLearning/video/pong-dqn/rl-video-episode-16400.mp4\n",
      "Moviepy - Building video /home/chgaw002/DeepLearning/video/pong-dqn/rl-video-episode-16600.mp4.\n",
      "Moviepy - Writing video /home/chgaw002/DeepLearning/video/pong-dqn/rl-video-episode-16600.mp4\n",
      "\n"
     ]
    },
    {
     "name": "stderr",
     "output_type": "stream",
     "text": [
      "\n",
      "t:   0%|          | 0/766 [00:00<?, ?it/s, now=None]\u001b[A\n",
      "t:  33%|███▎      | 253/766 [00:00<00:00, 2526.30it/s, now=None]\u001b[A\n",
      "t:  78%|███████▊  | 600/766 [00:00<00:00, 3080.69it/s, now=None]\u001b[A\n",
      "                                                                \u001b[A"
     ]
    },
    {
     "name": "stdout",
     "output_type": "stream",
     "text": [
      "Moviepy - Done !\n",
      "Moviepy - video ready /home/chgaw002/DeepLearning/video/pong-dqn/rl-video-episode-16600.mp4\n",
      "Moviepy - Building video /home/chgaw002/DeepLearning/video/pong-dqn/rl-video-episode-16800.mp4.\n",
      "Moviepy - Writing video /home/chgaw002/DeepLearning/video/pong-dqn/rl-video-episode-16800.mp4\n",
      "\n"
     ]
    },
    {
     "name": "stderr",
     "output_type": "stream",
     "text": [
      "\n",
      "t:   0%|          | 0/887 [00:00<?, ?it/s, now=None]\u001b[A\n",
      "t:  31%|███       | 275/887 [00:00<00:00, 2747.87it/s, now=None]\u001b[A\n",
      "t:  77%|███████▋  | 686/887 [00:00<00:00, 3546.82it/s, now=None]\u001b[A\n",
      "                                                                \u001b[A"
     ]
    },
    {
     "name": "stdout",
     "output_type": "stream",
     "text": [
      "Moviepy - Done !\n",
      "Moviepy - video ready /home/chgaw002/DeepLearning/video/pong-dqn/rl-video-episode-16800.mp4\n",
      "Moviepy - Building video /home/chgaw002/DeepLearning/video/pong-dqn/rl-video-episode-17000.mp4.\n",
      "Moviepy - Writing video /home/chgaw002/DeepLearning/video/pong-dqn/rl-video-episode-17000.mp4\n",
      "\n"
     ]
    },
    {
     "name": "stderr",
     "output_type": "stream",
     "text": [
      "\n",
      "t:   0%|          | 0/828 [00:00<?, ?it/s, now=None]\u001b[A\n",
      "t:  41%|████▏     | 343/828 [00:00<00:00, 3424.49it/s, now=None]\u001b[A\n",
      "t:  90%|████████▉ | 745/828 [00:00<00:00, 3771.53it/s, now=None]\u001b[A\n",
      "                                                                \u001b[A"
     ]
    },
    {
     "name": "stdout",
     "output_type": "stream",
     "text": [
      "Moviepy - Done !\n",
      "Moviepy - video ready /home/chgaw002/DeepLearning/video/pong-dqn/rl-video-episode-17000.mp4\n",
      "Moviepy - Building video /home/chgaw002/DeepLearning/video/pong-dqn/rl-video-episode-17200.mp4.\n",
      "Moviepy - Writing video /home/chgaw002/DeepLearning/video/pong-dqn/rl-video-episode-17200.mp4\n",
      "\n"
     ]
    },
    {
     "name": "stderr",
     "output_type": "stream",
     "text": [
      "\n",
      "t:   0%|          | 0/861 [00:00<?, ?it/s, now=None]\u001b[A\n",
      "t:  27%|██▋       | 231/861 [00:00<00:00, 2307.57it/s, now=None]\u001b[A\n",
      "t:  63%|██████▎   | 546/861 [00:00<00:00, 2798.36it/s, now=None]\u001b[A\n",
      "                                                                \u001b[A"
     ]
    },
    {
     "name": "stdout",
     "output_type": "stream",
     "text": [
      "Moviepy - Done !\n",
      "Moviepy - video ready /home/chgaw002/DeepLearning/video/pong-dqn/rl-video-episode-17200.mp4\n",
      "Moviepy - Building video /home/chgaw002/DeepLearning/video/pong-dqn/rl-video-episode-17400.mp4.\n",
      "Moviepy - Writing video /home/chgaw002/DeepLearning/video/pong-dqn/rl-video-episode-17400.mp4\n",
      "\n"
     ]
    },
    {
     "name": "stderr",
     "output_type": "stream",
     "text": [
      "\n",
      "t:   0%|          | 0/845 [00:00<?, ?it/s, now=None]\u001b[A\n",
      "t:  34%|███▎      | 284/845 [00:00<00:00, 2838.16it/s, now=None]\u001b[A\n",
      "t:  80%|███████▉  | 674/845 [00:00<00:00, 3457.76it/s, now=None]\u001b[A\n",
      "                                                                \u001b[A"
     ]
    },
    {
     "name": "stdout",
     "output_type": "stream",
     "text": [
      "Moviepy - Done !\n",
      "Moviepy - video ready /home/chgaw002/DeepLearning/video/pong-dqn/rl-video-episode-17400.mp4\n",
      "Moviepy - Building video /home/chgaw002/DeepLearning/video/pong-dqn/rl-video-episode-17600.mp4.\n",
      "Moviepy - Writing video /home/chgaw002/DeepLearning/video/pong-dqn/rl-video-episode-17600.mp4\n",
      "\n"
     ]
    },
    {
     "name": "stderr",
     "output_type": "stream",
     "text": [
      "\n",
      "t:   0%|          | 0/766 [00:00<?, ?it/s, now=None]\u001b[A\n",
      "t:  30%|██▉       | 227/766 [00:00<00:00, 2269.95it/s, now=None]\u001b[A\n",
      "t:  79%|███████▉  | 606/766 [00:00<00:00, 3158.57it/s, now=None]\u001b[A\n",
      "                                                                \u001b[A"
     ]
    },
    {
     "name": "stdout",
     "output_type": "stream",
     "text": [
      "Moviepy - Done !\n",
      "Moviepy - video ready /home/chgaw002/DeepLearning/video/pong-dqn/rl-video-episode-17600.mp4\n",
      "Moviepy - Building video /home/chgaw002/DeepLearning/video/pong-dqn/rl-video-episode-17800.mp4.\n",
      "Moviepy - Writing video /home/chgaw002/DeepLearning/video/pong-dqn/rl-video-episode-17800.mp4\n",
      "\n"
     ]
    },
    {
     "name": "stderr",
     "output_type": "stream",
     "text": [
      "\n",
      "t:   0%|          | 0/827 [00:00<?, ?it/s, now=None]\u001b[A\n",
      "t:  33%|███▎      | 274/827 [00:00<00:00, 2737.30it/s, now=None]\u001b[A\n",
      "t:  80%|████████  | 663/827 [00:00<00:00, 3411.80it/s, now=None]\u001b[A\n",
      "                                                                \u001b[A"
     ]
    },
    {
     "name": "stdout",
     "output_type": "stream",
     "text": [
      "Moviepy - Done !\n",
      "Moviepy - video ready /home/chgaw002/DeepLearning/video/pong-dqn/rl-video-episode-17800.mp4\n",
      "Moviepy - Building video /home/chgaw002/DeepLearning/video/pong-dqn/rl-video-episode-18000.mp4.\n",
      "Moviepy - Writing video /home/chgaw002/DeepLearning/video/pong-dqn/rl-video-episode-18000.mp4\n",
      "\n"
     ]
    },
    {
     "name": "stderr",
     "output_type": "stream",
     "text": [
      "\n",
      "t:   0%|          | 0/889 [00:00<?, ?it/s, now=None]\u001b[A\n",
      "t:  29%|██▉       | 259/889 [00:00<00:00, 2586.01it/s, now=None]\u001b[A\n",
      "t:  71%|███████   | 628/889 [00:00<00:00, 3233.31it/s, now=None]\u001b[A\n",
      "                                                                \u001b[A"
     ]
    },
    {
     "name": "stdout",
     "output_type": "stream",
     "text": [
      "Moviepy - Done !\n",
      "Moviepy - video ready /home/chgaw002/DeepLearning/video/pong-dqn/rl-video-episode-18000.mp4\n",
      "Moviepy - Building video /home/chgaw002/DeepLearning/video/pong-dqn/rl-video-episode-18200.mp4.\n",
      "Moviepy - Writing video /home/chgaw002/DeepLearning/video/pong-dqn/rl-video-episode-18200.mp4\n",
      "\n"
     ]
    },
    {
     "name": "stderr",
     "output_type": "stream",
     "text": [
      "\n",
      "t:   0%|          | 0/766 [00:00<?, ?it/s, now=None]\u001b[A\n",
      "t:  36%|███▋      | 278/766 [00:00<00:00, 2774.95it/s, now=None]\u001b[A\n",
      "t:  90%|█████████ | 691/766 [00:00<00:00, 3566.81it/s, now=None]\u001b[A\n",
      "                                                                \u001b[A"
     ]
    },
    {
     "name": "stdout",
     "output_type": "stream",
     "text": [
      "Moviepy - Done !\n",
      "Moviepy - video ready /home/chgaw002/DeepLearning/video/pong-dqn/rl-video-episode-18200.mp4\n",
      "Moviepy - Building video /home/chgaw002/DeepLearning/video/pong-dqn/rl-video-episode-18400.mp4.\n",
      "Moviepy - Writing video /home/chgaw002/DeepLearning/video/pong-dqn/rl-video-episode-18400.mp4\n",
      "\n"
     ]
    },
    {
     "name": "stderr",
     "output_type": "stream",
     "text": [
      "\n",
      "t:   0%|          | 0/906 [00:00<?, ?it/s, now=None]\u001b[A\n",
      "t:  41%|████      | 372/906 [00:00<00:00, 3717.26it/s, now=None]\u001b[A\n",
      "t:  93%|█████████▎| 845/906 [00:00<00:00, 4312.23it/s, now=None]\u001b[A\n",
      "                                                                \u001b[A"
     ]
    },
    {
     "name": "stdout",
     "output_type": "stream",
     "text": [
      "Moviepy - Done !\n",
      "Moviepy - video ready /home/chgaw002/DeepLearning/video/pong-dqn/rl-video-episode-18400.mp4\n",
      "Moviepy - Building video /home/chgaw002/DeepLearning/video/pong-dqn/rl-video-episode-18600.mp4.\n",
      "Moviepy - Writing video /home/chgaw002/DeepLearning/video/pong-dqn/rl-video-episode-18600.mp4\n",
      "\n"
     ]
    },
    {
     "name": "stderr",
     "output_type": "stream",
     "text": [
      "\n",
      "t:   0%|          | 0/766 [00:00<?, ?it/s, now=None]\u001b[A\n",
      "t:  32%|███▏      | 247/766 [00:00<00:00, 2461.75it/s, now=None]\u001b[A\n",
      "t:  78%|███████▊  | 598/766 [00:00<00:00, 3074.79it/s, now=None]\u001b[A\n",
      "                                                                \u001b[A"
     ]
    },
    {
     "name": "stdout",
     "output_type": "stream",
     "text": [
      "Moviepy - Done !\n",
      "Moviepy - video ready /home/chgaw002/DeepLearning/video/pong-dqn/rl-video-episode-18600.mp4\n",
      "Moviepy - Building video /home/chgaw002/DeepLearning/video/pong-dqn/rl-video-episode-18800.mp4.\n",
      "Moviepy - Writing video /home/chgaw002/DeepLearning/video/pong-dqn/rl-video-episode-18800.mp4\n",
      "\n"
     ]
    },
    {
     "name": "stderr",
     "output_type": "stream",
     "text": [
      "\n",
      "t:   0%|          | 0/826 [00:00<?, ?it/s, now=None]\u001b[A\n",
      "t:  28%|██▊       | 232/826 [00:00<00:00, 2315.71it/s, now=None]\u001b[A\n",
      "t:  67%|██████▋   | 550/826 [00:00<00:00, 2821.17it/s, now=None]\u001b[A\n",
      "                                                                \u001b[A"
     ]
    },
    {
     "name": "stdout",
     "output_type": "stream",
     "text": [
      "Moviepy - Done !\n",
      "Moviepy - video ready /home/chgaw002/DeepLearning/video/pong-dqn/rl-video-episode-18800.mp4\n",
      "Moviepy - Building video /home/chgaw002/DeepLearning/video/pong-dqn/rl-video-episode-19000.mp4.\n",
      "Moviepy - Writing video /home/chgaw002/DeepLearning/video/pong-dqn/rl-video-episode-19000.mp4\n",
      "\n"
     ]
    },
    {
     "name": "stderr",
     "output_type": "stream",
     "text": [
      "\n",
      "t:   0%|          | 0/766 [00:00<?, ?it/s, now=None]\u001b[A\n",
      "t:  33%|███▎      | 253/766 [00:00<00:00, 2525.54it/s, now=None]\u001b[A\n",
      "t:  81%|████████  | 620/766 [00:00<00:00, 3196.02it/s, now=None]\u001b[A\n",
      "                                                                \u001b[A"
     ]
    },
    {
     "name": "stdout",
     "output_type": "stream",
     "text": [
      "Moviepy - Done !\n",
      "Moviepy - video ready /home/chgaw002/DeepLearning/video/pong-dqn/rl-video-episode-19000.mp4\n",
      "Moviepy - Building video /home/chgaw002/DeepLearning/video/pong-dqn/rl-video-episode-19200.mp4.\n",
      "Moviepy - Writing video /home/chgaw002/DeepLearning/video/pong-dqn/rl-video-episode-19200.mp4\n",
      "\n"
     ]
    },
    {
     "name": "stderr",
     "output_type": "stream",
     "text": [
      "\n",
      "t:   0%|          | 0/766 [00:00<?, ?it/s, now=None]\u001b[A\n",
      "t:  36%|███▌      | 276/766 [00:00<00:00, 2754.88it/s, now=None]\u001b[A\n",
      "t:  85%|████████▌ | 654/766 [00:00<00:00, 3357.16it/s, now=None]\u001b[A\n",
      "                                                                \u001b[A"
     ]
    },
    {
     "name": "stdout",
     "output_type": "stream",
     "text": [
      "Moviepy - Done !\n",
      "Moviepy - video ready /home/chgaw002/DeepLearning/video/pong-dqn/rl-video-episode-19200.mp4\n",
      "Moviepy - Building video /home/chgaw002/DeepLearning/video/pong-dqn/rl-video-episode-19400.mp4.\n",
      "Moviepy - Writing video /home/chgaw002/DeepLearning/video/pong-dqn/rl-video-episode-19400.mp4\n",
      "\n"
     ]
    },
    {
     "name": "stderr",
     "output_type": "stream",
     "text": [
      "\n",
      "t:   0%|          | 0/863 [00:00<?, ?it/s, now=None]\u001b[A\n",
      "t:  29%|██▉       | 253/863 [00:00<00:00, 2525.46it/s, now=None]\u001b[A\n",
      "t:  70%|██████▉   | 603/863 [00:00<00:00, 3095.03it/s, now=None]\u001b[A\n",
      "                                                                \u001b[A"
     ]
    },
    {
     "name": "stdout",
     "output_type": "stream",
     "text": [
      "Moviepy - Done !\n",
      "Moviepy - video ready /home/chgaw002/DeepLearning/video/pong-dqn/rl-video-episode-19400.mp4\n",
      "Moviepy - Building video /home/chgaw002/DeepLearning/video/pong-dqn/rl-video-episode-19600.mp4.\n",
      "Moviepy - Writing video /home/chgaw002/DeepLearning/video/pong-dqn/rl-video-episode-19600.mp4\n",
      "\n"
     ]
    },
    {
     "name": "stderr",
     "output_type": "stream",
     "text": [
      "\n",
      "t:   0%|          | 0/949 [00:00<?, ?it/s, now=None]\u001b[A\n",
      "t:  33%|███▎      | 311/949 [00:00<00:00, 3104.30it/s, now=None]\u001b[A\n",
      "t:  78%|███████▊  | 737/949 [00:00<00:00, 3782.95it/s, now=None]\u001b[A\n",
      "                                                                \u001b[A"
     ]
    },
    {
     "name": "stdout",
     "output_type": "stream",
     "text": [
      "Moviepy - Done !\n",
      "Moviepy - video ready /home/chgaw002/DeepLearning/video/pong-dqn/rl-video-episode-19600.mp4\n",
      "Moviepy - Building video /home/chgaw002/DeepLearning/video/pong-dqn/rl-video-episode-19800.mp4.\n",
      "Moviepy - Writing video /home/chgaw002/DeepLearning/video/pong-dqn/rl-video-episode-19800.mp4\n",
      "\n"
     ]
    },
    {
     "name": "stderr",
     "output_type": "stream",
     "text": [
      "\n",
      "t:   0%|          | 0/766 [00:00<?, ?it/s, now=None]\u001b[A\n",
      "t:  41%|████      | 311/766 [00:00<00:00, 3109.43it/s, now=None]\u001b[A\n",
      "t:  96%|█████████▋| 738/766 [00:00<00:00, 3789.46it/s, now=None]\u001b[A\n",
      "                                                                \u001b[A"
     ]
    },
    {
     "name": "stdout",
     "output_type": "stream",
     "text": [
      "Moviepy - Done !\n",
      "Moviepy - video ready /home/chgaw002/DeepLearning/video/pong-dqn/rl-video-episode-19800.mp4\n",
      "Moviepy - Building video /home/chgaw002/DeepLearning/video/pong-dqn/rl-video-episode-20000.mp4.\n",
      "Moviepy - Writing video /home/chgaw002/DeepLearning/video/pong-dqn/rl-video-episode-20000.mp4\n",
      "\n"
     ]
    },
    {
     "name": "stderr",
     "output_type": "stream",
     "text": [
      "\n",
      "t:   0%|          | 0/827 [00:00<?, ?it/s, now=None]\u001b[A\n",
      "t:  28%|██▊       | 229/827 [00:00<00:00, 2283.89it/s, now=None]\u001b[A\n",
      "t:  72%|███████▏  | 597/827 [00:00<00:00, 3102.01it/s, now=None]\u001b[A\n",
      "                                                                \u001b[A"
     ]
    },
    {
     "name": "stdout",
     "output_type": "stream",
     "text": [
      "Moviepy - Done !\n",
      "Moviepy - video ready /home/chgaw002/DeepLearning/video/pong-dqn/rl-video-episode-20000.mp4\n",
      "Moviepy - Building video /home/chgaw002/DeepLearning/video/pong-dqn/rl-video-episode-20200.mp4.\n",
      "Moviepy - Writing video /home/chgaw002/DeepLearning/video/pong-dqn/rl-video-episode-20200.mp4\n",
      "\n"
     ]
    },
    {
     "name": "stderr",
     "output_type": "stream",
     "text": [
      "\n",
      "t:   0%|          | 0/826 [00:00<?, ?it/s, now=None]\u001b[A\n",
      "t:  27%|██▋       | 220/826 [00:00<00:00, 2197.72it/s, now=None]\u001b[A\n",
      "t:  66%|██████▌   | 547/826 [00:00<00:00, 2826.09it/s, now=None]\u001b[A\n",
      "                                                                \u001b[A"
     ]
    },
    {
     "name": "stdout",
     "output_type": "stream",
     "text": [
      "Moviepy - Done !\n",
      "Moviepy - video ready /home/chgaw002/DeepLearning/video/pong-dqn/rl-video-episode-20200.mp4\n",
      "Moviepy - Building video /home/chgaw002/DeepLearning/video/pong-dqn/rl-video-episode-20400.mp4.\n",
      "Moviepy - Writing video /home/chgaw002/DeepLearning/video/pong-dqn/rl-video-episode-20400.mp4\n",
      "\n"
     ]
    },
    {
     "name": "stderr",
     "output_type": "stream",
     "text": [
      "\n",
      "t:   0%|          | 0/828 [00:00<?, ?it/s, now=None]\u001b[A\n",
      "t:  39%|███▉      | 325/828 [00:00<00:00, 3247.14it/s, now=None]\u001b[A\n",
      "t:  81%|████████  | 670/828 [00:00<00:00, 3363.56it/s, now=None]\u001b[A\n",
      "                                                                \u001b[A"
     ]
    },
    {
     "name": "stdout",
     "output_type": "stream",
     "text": [
      "Moviepy - Done !\n",
      "Moviepy - video ready /home/chgaw002/DeepLearning/video/pong-dqn/rl-video-episode-20400.mp4\n",
      "Moviepy - Building video /home/chgaw002/DeepLearning/video/pong-dqn/rl-video-episode-20600.mp4.\n",
      "Moviepy - Writing video /home/chgaw002/DeepLearning/video/pong-dqn/rl-video-episode-20600.mp4\n",
      "\n"
     ]
    },
    {
     "name": "stderr",
     "output_type": "stream",
     "text": [
      "\n",
      "t:   0%|          | 0/766 [00:00<?, ?it/s, now=None]\u001b[A\n",
      "t:  32%|███▏      | 243/766 [00:00<00:00, 2420.42it/s, now=None]\u001b[A\n",
      "t:  79%|███████▉  | 604/766 [00:00<00:00, 3114.21it/s, now=None]\u001b[A\n",
      "                                                                \u001b[A"
     ]
    },
    {
     "name": "stdout",
     "output_type": "stream",
     "text": [
      "Moviepy - Done !\n",
      "Moviepy - video ready /home/chgaw002/DeepLearning/video/pong-dqn/rl-video-episode-20600.mp4\n",
      "Moviepy - Building video /home/chgaw002/DeepLearning/video/pong-dqn/rl-video-episode-20800.mp4.\n",
      "Moviepy - Writing video /home/chgaw002/DeepLearning/video/pong-dqn/rl-video-episode-20800.mp4\n",
      "\n"
     ]
    },
    {
     "name": "stderr",
     "output_type": "stream",
     "text": [
      "\n",
      "t:   0%|          | 0/766 [00:00<?, ?it/s, now=None]\u001b[A\n",
      "t:  45%|████▌     | 347/766 [00:00<00:00, 3463.55it/s, now=None]\u001b[A\n",
      "                                                                \u001b[A"
     ]
    },
    {
     "name": "stdout",
     "output_type": "stream",
     "text": [
      "Moviepy - Done !\n",
      "Moviepy - video ready /home/chgaw002/DeepLearning/video/pong-dqn/rl-video-episode-20800.mp4\n",
      "Moviepy - Building video /home/chgaw002/DeepLearning/video/pong-dqn/rl-video-episode-21000.mp4.\n",
      "Moviepy - Writing video /home/chgaw002/DeepLearning/video/pong-dqn/rl-video-episode-21000.mp4\n",
      "\n"
     ]
    },
    {
     "name": "stderr",
     "output_type": "stream",
     "text": [
      "\n",
      "t:   0%|          | 0/826 [00:00<?, ?it/s, now=None]\u001b[A\n",
      "t:  31%|███       | 252/826 [00:00<00:00, 2514.62it/s, now=None]\u001b[A\n",
      "t:  74%|███████▍  | 613/826 [00:00<00:00, 3153.78it/s, now=None]\u001b[A\n",
      "                                                                \u001b[A"
     ]
    },
    {
     "name": "stdout",
     "output_type": "stream",
     "text": [
      "Moviepy - Done !\n",
      "Moviepy - video ready /home/chgaw002/DeepLearning/video/pong-dqn/rl-video-episode-21000.mp4\n",
      "Moviepy - Building video /home/chgaw002/DeepLearning/video/pong-dqn/rl-video-episode-21200.mp4.\n",
      "Moviepy - Writing video /home/chgaw002/DeepLearning/video/pong-dqn/rl-video-episode-21200.mp4\n",
      "\n"
     ]
    },
    {
     "name": "stderr",
     "output_type": "stream",
     "text": [
      "\n",
      "t:   0%|          | 0/795 [00:00<?, ?it/s, now=None]\u001b[A\n",
      "t:  37%|███▋      | 291/795 [00:00<00:00, 2909.91it/s, now=None]\u001b[A\n",
      "t:  84%|████████▍ | 670/795 [00:00<00:00, 3424.85it/s, now=None]\u001b[A\n",
      "                                                                \u001b[A"
     ]
    },
    {
     "name": "stdout",
     "output_type": "stream",
     "text": [
      "Moviepy - Done !\n",
      "Moviepy - video ready /home/chgaw002/DeepLearning/video/pong-dqn/rl-video-episode-21200.mp4\n",
      "Moviepy - Building video /home/chgaw002/DeepLearning/video/pong-dqn/rl-video-episode-21400.mp4.\n",
      "Moviepy - Writing video /home/chgaw002/DeepLearning/video/pong-dqn/rl-video-episode-21400.mp4\n",
      "\n"
     ]
    },
    {
     "name": "stderr",
     "output_type": "stream",
     "text": [
      "\n",
      "t:   0%|          | 0/921 [00:00<?, ?it/s, now=None]\u001b[A\n",
      "t:  26%|██▌       | 240/921 [00:00<00:00, 2398.74it/s, now=None]\u001b[A\n",
      "t:  62%|██████▏   | 568/921 [00:00<00:00, 2914.38it/s, now=None]\u001b[A\n",
      "                                                                \u001b[A"
     ]
    },
    {
     "name": "stdout",
     "output_type": "stream",
     "text": [
      "Moviepy - Done !\n",
      "Moviepy - video ready /home/chgaw002/DeepLearning/video/pong-dqn/rl-video-episode-21400.mp4\n",
      "Moviepy - Building video /home/chgaw002/DeepLearning/video/pong-dqn/rl-video-episode-21600.mp4.\n",
      "Moviepy - Writing video /home/chgaw002/DeepLearning/video/pong-dqn/rl-video-episode-21600.mp4\n",
      "\n"
     ]
    },
    {
     "name": "stderr",
     "output_type": "stream",
     "text": [
      "\n",
      "t:   0%|          | 0/766 [00:00<?, ?it/s, now=None]\u001b[A\n",
      "t:  37%|███▋      | 284/766 [00:00<00:00, 2837.53it/s, now=None]\u001b[A\n",
      "t:  83%|████████▎ | 633/766 [00:00<00:00, 3218.83it/s, now=None]\u001b[A\n",
      "                                                                \u001b[A"
     ]
    },
    {
     "name": "stdout",
     "output_type": "stream",
     "text": [
      "Moviepy - Done !\n",
      "Moviepy - video ready /home/chgaw002/DeepLearning/video/pong-dqn/rl-video-episode-21600.mp4\n",
      "Moviepy - Building video /home/chgaw002/DeepLearning/video/pong-dqn/rl-video-episode-21800.mp4.\n",
      "Moviepy - Writing video /home/chgaw002/DeepLearning/video/pong-dqn/rl-video-episode-21800.mp4\n",
      "\n"
     ]
    },
    {
     "name": "stderr",
     "output_type": "stream",
     "text": [
      "\n",
      "t:   0%|          | 0/766 [00:00<?, ?it/s, now=None]\u001b[A\n",
      "t:  35%|███▌      | 271/766 [00:00<00:00, 2704.79it/s, now=None]\u001b[A\n",
      "t:  81%|████████  | 619/766 [00:00<00:00, 3156.50it/s, now=None]\u001b[A\n",
      "                                                                \u001b[A"
     ]
    },
    {
     "name": "stdout",
     "output_type": "stream",
     "text": [
      "Moviepy - Done !\n",
      "Moviepy - video ready /home/chgaw002/DeepLearning/video/pong-dqn/rl-video-episode-21800.mp4\n",
      "Moviepy - Building video /home/chgaw002/DeepLearning/video/pong-dqn/rl-video-episode-22000.mp4.\n",
      "Moviepy - Writing video /home/chgaw002/DeepLearning/video/pong-dqn/rl-video-episode-22000.mp4\n",
      "\n"
     ]
    },
    {
     "name": "stderr",
     "output_type": "stream",
     "text": [
      "\n",
      "t:   0%|          | 0/766 [00:00<?, ?it/s, now=None]\u001b[A\n",
      "t:  35%|███▍      | 267/766 [00:00<00:00, 2665.79it/s, now=None]\u001b[A\n",
      "t:  84%|████████▍ | 642/766 [00:00<00:00, 3302.36it/s, now=None]\u001b[A\n",
      "                                                                \u001b[A"
     ]
    },
    {
     "name": "stdout",
     "output_type": "stream",
     "text": [
      "Moviepy - Done !\n",
      "Moviepy - video ready /home/chgaw002/DeepLearning/video/pong-dqn/rl-video-episode-22000.mp4\n",
      "Moviepy - Building video /home/chgaw002/DeepLearning/video/pong-dqn/rl-video-episode-22200.mp4.\n",
      "Moviepy - Writing video /home/chgaw002/DeepLearning/video/pong-dqn/rl-video-episode-22200.mp4\n",
      "\n"
     ]
    },
    {
     "name": "stderr",
     "output_type": "stream",
     "text": [
      "\n",
      "t:   0%|          | 0/826 [00:00<?, ?it/s, now=None]\u001b[A\n",
      "t:  31%|███       | 253/826 [00:00<00:00, 2525.97it/s, now=None]\u001b[A\n",
      "t:  75%|███████▌  | 622/826 [00:00<00:00, 3206.95it/s, now=None]\u001b[A\n",
      "                                                                \u001b[A"
     ]
    },
    {
     "name": "stdout",
     "output_type": "stream",
     "text": [
      "Moviepy - Done !\n",
      "Moviepy - video ready /home/chgaw002/DeepLearning/video/pong-dqn/rl-video-episode-22200.mp4\n",
      "Moviepy - Building video /home/chgaw002/DeepLearning/video/pong-dqn/rl-video-episode-22400.mp4.\n",
      "Moviepy - Writing video /home/chgaw002/DeepLearning/video/pong-dqn/rl-video-episode-22400.mp4\n",
      "\n"
     ]
    },
    {
     "name": "stderr",
     "output_type": "stream",
     "text": [
      "\n",
      "t:   0%|          | 0/826 [00:00<?, ?it/s, now=None]\u001b[A\n",
      "t:  26%|██▋       | 218/826 [00:00<00:00, 2178.58it/s, now=None]\u001b[A\n",
      "t:  72%|███████▏  | 593/826 [00:00<00:00, 3100.89it/s, now=None]\u001b[A\n",
      "                                                                \u001b[A"
     ]
    },
    {
     "name": "stdout",
     "output_type": "stream",
     "text": [
      "Moviepy - Done !\n",
      "Moviepy - video ready /home/chgaw002/DeepLearning/video/pong-dqn/rl-video-episode-22400.mp4\n",
      "Moviepy - Building video /home/chgaw002/DeepLearning/video/pong-dqn/rl-video-episode-22600.mp4.\n",
      "Moviepy - Writing video /home/chgaw002/DeepLearning/video/pong-dqn/rl-video-episode-22600.mp4\n",
      "\n"
     ]
    },
    {
     "name": "stderr",
     "output_type": "stream",
     "text": [
      "\n",
      "t:   0%|          | 0/826 [00:00<?, ?it/s, now=None]\u001b[A\n",
      "t:  23%|██▎       | 193/826 [00:00<00:00, 1925.24it/s, now=None]\u001b[A\n",
      "t:  67%|██████▋   | 555/826 [00:00<00:00, 2917.51it/s, now=None]\u001b[A\n",
      "                                                                \u001b[A"
     ]
    },
    {
     "name": "stdout",
     "output_type": "stream",
     "text": [
      "Moviepy - Done !\n",
      "Moviepy - video ready /home/chgaw002/DeepLearning/video/pong-dqn/rl-video-episode-22600.mp4\n"
     ]
    }
   ],
   "source": [
    "observation, info = env.reset()\n",
    "policy.init_game(observation)\n",
    "\n",
    "plt.ion()\n",
    "plt.axis('off')\n",
    "img = plt.imshow(env.render())\n",
    "\n",
    "with tqdm(total=10000) as pbar:\n",
    "    while True:\n",
    "        try:\n",
    "            action = policy(observation)\n",
    "            observation, reward, terminated, truncated, info = env.step(action)\n",
    "            #render(env)\n",
    "            policy.update(observation, reward, terminated, truncated, info, pbar)\n",
    "\n",
    "            if terminated or truncated:\n",
    "                pbar.update()\n",
    "                observation, info = env.reset()\n",
    "                policy.init_game(observation)\n",
    "                \n",
    "        except KeyboardInterrupt:\n",
    "            break\n",
    "env.close()"
   ]
  },
  {
   "cell_type": "code",
   "execution_count": 154,
   "id": "1ecfeabc-4fdb-4371-8cde-e1c3a32e7e9b",
   "metadata": {},
   "outputs": [],
   "source": [
    "policy.save(\"model.pt\")"
   ]
  },
  {
   "cell_type": "code",
   "execution_count": null,
   "id": "6ad4b6af-78ab-4edb-a449-31fe87aea7b2",
   "metadata": {},
   "outputs": [],
   "source": []
  }
 ],
 "metadata": {
  "kernelspec": {
   "display_name": "Python 3 (ipykernel)",
   "language": "python",
   "name": "python3"
  },
  "language_info": {
   "codemirror_mode": {
    "name": "ipython",
    "version": 3
   },
   "file_extension": ".py",
   "mimetype": "text/x-python",
   "name": "python",
   "nbconvert_exporter": "python",
   "pygments_lexer": "ipython3",
   "version": "3.10.11"
  }
 },
 "nbformat": 4,
 "nbformat_minor": 5
}
